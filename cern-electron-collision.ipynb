{
 "cells": [
  {
   "cell_type": "code",
   "execution_count": 1,
   "id": "e1fdb1ea",
   "metadata": {
    "_cell_guid": "b1076dfc-b9ad-4769-8c92-a6c4dae69d19",
    "_uuid": "8f2839f25d086af736a60e9eeb907d3b93b6e0e5",
    "execution": {
     "iopub.execute_input": "2022-01-21T06:13:50.813677Z",
     "iopub.status.busy": "2022-01-21T06:13:50.811828Z",
     "iopub.status.idle": "2022-01-21T06:13:50.835280Z",
     "shell.execute_reply": "2022-01-21T06:13:50.836066Z",
     "shell.execute_reply.started": "2022-01-21T06:00:24.266903Z"
    },
    "papermill": {
     "duration": 0.064052,
     "end_time": "2022-01-21T06:13:50.836478",
     "exception": false,
     "start_time": "2022-01-21T06:13:50.772426",
     "status": "completed"
    },
    "tags": []
   },
   "outputs": [
    {
     "name": "stdout",
     "output_type": "stream",
     "text": [
      "/kaggle/input/cern-electron-collision-data/dielectron.csv\n"
     ]
    }
   ],
   "source": [
    "# This Python 3 environment comes with many helpful analytics libraries installed\n",
    "# It is defined by the kaggle/python Docker image: https://github.com/kaggle/docker-python\n",
    "# For example, here's several helpful packages to load\n",
    "\n",
    "import numpy as np # linear algebra\n",
    "import pandas as pd # data processing, CSV file I/O (e.g. pd.read_csv)\n",
    "\n",
    "# Input data files are available in the read-only \"../input/\" directory\n",
    "# For example, running this (by clicking run or pressing Shift+Enter) will list all files under the input directory\n",
    "\n",
    "import os\n",
    "for dirname, _, filenames in os.walk('/kaggle/input'):\n",
    "    for filename in filenames:\n",
    "        print(os.path.join(dirname, filename))\n",
    "\n",
    "# You can write up to 20GB to the current directory (/kaggle/working/) that gets preserved as output when you create a version using \"Save & Run All\" \n",
    "# You can also write temporary files to /kaggle/temp/, but they won't be saved outside of the current session"
   ]
  },
  {
   "cell_type": "code",
   "execution_count": 2,
   "id": "72a6c1fd",
   "metadata": {
    "execution": {
     "iopub.execute_input": "2022-01-21T06:13:50.908889Z",
     "iopub.status.busy": "2022-01-21T06:13:50.908243Z",
     "iopub.status.idle": "2022-01-21T06:13:51.417236Z",
     "shell.execute_reply": "2022-01-21T06:13:51.417744Z",
     "shell.execute_reply.started": "2022-01-21T06:00:24.319891Z"
    },
    "papermill": {
     "duration": 0.545852,
     "end_time": "2022-01-21T06:13:51.417918",
     "exception": false,
     "start_time": "2022-01-21T06:13:50.872066",
     "status": "completed"
    },
    "tags": []
   },
   "outputs": [
    {
     "data": {
      "text/html": [
       "<div>\n",
       "<style scoped>\n",
       "    .dataframe tbody tr th:only-of-type {\n",
       "        vertical-align: middle;\n",
       "    }\n",
       "\n",
       "    .dataframe tbody tr th {\n",
       "        vertical-align: top;\n",
       "    }\n",
       "\n",
       "    .dataframe thead th {\n",
       "        text-align: right;\n",
       "    }\n",
       "</style>\n",
       "<table border=\"1\" class=\"dataframe\">\n",
       "  <thead>\n",
       "    <tr style=\"text-align: right;\">\n",
       "      <th></th>\n",
       "      <th>Run</th>\n",
       "      <th>Event</th>\n",
       "      <th>E1</th>\n",
       "      <th>px1</th>\n",
       "      <th>py1</th>\n",
       "      <th>pz1</th>\n",
       "      <th>pt1</th>\n",
       "      <th>eta1</th>\n",
       "      <th>phi1</th>\n",
       "      <th>Q1</th>\n",
       "      <th>E2</th>\n",
       "      <th>px2</th>\n",
       "      <th>py2</th>\n",
       "      <th>pz2</th>\n",
       "      <th>pt2</th>\n",
       "      <th>eta2</th>\n",
       "      <th>phi2</th>\n",
       "      <th>Q2</th>\n",
       "      <th>M</th>\n",
       "    </tr>\n",
       "  </thead>\n",
       "  <tbody>\n",
       "    <tr>\n",
       "      <th>0</th>\n",
       "      <td>147115</td>\n",
       "      <td>366639895</td>\n",
       "      <td>58.71410</td>\n",
       "      <td>-7.31132</td>\n",
       "      <td>10.531000</td>\n",
       "      <td>-57.29740</td>\n",
       "      <td>12.82020</td>\n",
       "      <td>-2.20267</td>\n",
       "      <td>2.17766</td>\n",
       "      <td>1</td>\n",
       "      <td>11.2836</td>\n",
       "      <td>-1.032340</td>\n",
       "      <td>-1.88066</td>\n",
       "      <td>-11.0778</td>\n",
       "      <td>2.14537</td>\n",
       "      <td>-2.344030</td>\n",
       "      <td>-2.072810</td>\n",
       "      <td>-1</td>\n",
       "      <td>8.94841</td>\n",
       "    </tr>\n",
       "    <tr>\n",
       "      <th>1</th>\n",
       "      <td>147115</td>\n",
       "      <td>366704169</td>\n",
       "      <td>6.61188</td>\n",
       "      <td>-4.15213</td>\n",
       "      <td>-0.579855</td>\n",
       "      <td>-5.11278</td>\n",
       "      <td>4.19242</td>\n",
       "      <td>-1.02842</td>\n",
       "      <td>-3.00284</td>\n",
       "      <td>-1</td>\n",
       "      <td>17.1492</td>\n",
       "      <td>-11.713500</td>\n",
       "      <td>5.04474</td>\n",
       "      <td>11.4647</td>\n",
       "      <td>12.75360</td>\n",
       "      <td>0.808077</td>\n",
       "      <td>2.734920</td>\n",
       "      <td>1</td>\n",
       "      <td>15.89300</td>\n",
       "    </tr>\n",
       "    <tr>\n",
       "      <th>2</th>\n",
       "      <td>147115</td>\n",
       "      <td>367112316</td>\n",
       "      <td>25.54190</td>\n",
       "      <td>-11.48090</td>\n",
       "      <td>2.041680</td>\n",
       "      <td>22.72460</td>\n",
       "      <td>11.66100</td>\n",
       "      <td>1.42048</td>\n",
       "      <td>2.96560</td>\n",
       "      <td>1</td>\n",
       "      <td>15.8203</td>\n",
       "      <td>-1.472800</td>\n",
       "      <td>2.25895</td>\n",
       "      <td>-15.5888</td>\n",
       "      <td>2.69667</td>\n",
       "      <td>-2.455080</td>\n",
       "      <td>2.148570</td>\n",
       "      <td>1</td>\n",
       "      <td>38.38770</td>\n",
       "    </tr>\n",
       "    <tr>\n",
       "      <th>3</th>\n",
       "      <td>147115</td>\n",
       "      <td>366952149</td>\n",
       "      <td>65.39590</td>\n",
       "      <td>7.51214</td>\n",
       "      <td>11.887100</td>\n",
       "      <td>63.86620</td>\n",
       "      <td>14.06190</td>\n",
       "      <td>2.21838</td>\n",
       "      <td>1.00721</td>\n",
       "      <td>1</td>\n",
       "      <td>25.1273</td>\n",
       "      <td>4.087860</td>\n",
       "      <td>2.59641</td>\n",
       "      <td>24.6563</td>\n",
       "      <td>4.84272</td>\n",
       "      <td>2.330210</td>\n",
       "      <td>0.565865</td>\n",
       "      <td>-1</td>\n",
       "      <td>3.72862</td>\n",
       "    </tr>\n",
       "    <tr>\n",
       "      <th>4</th>\n",
       "      <td>147115</td>\n",
       "      <td>366523212</td>\n",
       "      <td>61.45040</td>\n",
       "      <td>2.95284</td>\n",
       "      <td>-14.622700</td>\n",
       "      <td>-59.61210</td>\n",
       "      <td>14.91790</td>\n",
       "      <td>-2.09375</td>\n",
       "      <td>-1.37154</td>\n",
       "      <td>-1</td>\n",
       "      <td>13.8871</td>\n",
       "      <td>-0.277757</td>\n",
       "      <td>-2.42560</td>\n",
       "      <td>-13.6708</td>\n",
       "      <td>2.44145</td>\n",
       "      <td>-2.423700</td>\n",
       "      <td>-1.684810</td>\n",
       "      <td>-1</td>\n",
       "      <td>2.74718</td>\n",
       "    </tr>\n",
       "  </tbody>\n",
       "</table>\n",
       "</div>"
      ],
      "text/plain": [
       "      Run      Event        E1      px1         py1       pz1       pt1  \\\n",
       "0  147115  366639895  58.71410  -7.31132  10.531000 -57.29740  12.82020   \n",
       "1  147115  366704169   6.61188  -4.15213  -0.579855  -5.11278   4.19242   \n",
       "2  147115  367112316  25.54190 -11.48090   2.041680  22.72460  11.66100   \n",
       "3  147115  366952149  65.39590   7.51214  11.887100  63.86620  14.06190   \n",
       "4  147115  366523212  61.45040   2.95284 -14.622700 -59.61210  14.91790   \n",
       "\n",
       "      eta1     phi1  Q1       E2        px2      py2      pz2       pt2  \\\n",
       "0 -2.20267  2.17766   1  11.2836  -1.032340 -1.88066 -11.0778   2.14537   \n",
       "1 -1.02842 -3.00284  -1  17.1492 -11.713500  5.04474  11.4647  12.75360   \n",
       "2  1.42048  2.96560   1  15.8203  -1.472800  2.25895 -15.5888   2.69667   \n",
       "3  2.21838  1.00721   1  25.1273   4.087860  2.59641  24.6563   4.84272   \n",
       "4 -2.09375 -1.37154  -1  13.8871  -0.277757 -2.42560 -13.6708   2.44145   \n",
       "\n",
       "       eta2      phi2  Q2         M  \n",
       "0 -2.344030 -2.072810  -1   8.94841  \n",
       "1  0.808077  2.734920   1  15.89300  \n",
       "2 -2.455080  2.148570   1  38.38770  \n",
       "3  2.330210  0.565865  -1   3.72862  \n",
       "4 -2.423700 -1.684810  -1   2.74718  "
      ]
     },
     "execution_count": 2,
     "metadata": {},
     "output_type": "execute_result"
    }
   ],
   "source": [
    "df = pd.read_csv('/kaggle/input/cern-electron-collision-data/dielectron.csv')\n",
    "df.head()"
   ]
  },
  {
   "cell_type": "code",
   "execution_count": 3,
   "id": "50b5ef63",
   "metadata": {
    "execution": {
     "iopub.execute_input": "2022-01-21T06:13:51.489030Z",
     "iopub.status.busy": "2022-01-21T06:13:51.488410Z",
     "iopub.status.idle": "2022-01-21T06:13:51.493176Z",
     "shell.execute_reply": "2022-01-21T06:13:51.493753Z",
     "shell.execute_reply.started": "2022-01-21T06:00:24.611326Z"
    },
    "papermill": {
     "duration": 0.04195,
     "end_time": "2022-01-21T06:13:51.493920",
     "exception": false,
     "start_time": "2022-01-21T06:13:51.451970",
     "status": "completed"
    },
    "tags": []
   },
   "outputs": [
    {
     "data": {
      "text/plain": [
       "(100000, 19)"
      ]
     },
     "execution_count": 3,
     "metadata": {},
     "output_type": "execute_result"
    }
   ],
   "source": [
    "df.shape"
   ]
  },
  {
   "cell_type": "code",
   "execution_count": 4,
   "id": "b13aaa82",
   "metadata": {
    "execution": {
     "iopub.execute_input": "2022-01-21T06:13:51.565808Z",
     "iopub.status.busy": "2022-01-21T06:13:51.565169Z",
     "iopub.status.idle": "2022-01-21T06:13:51.576504Z",
     "shell.execute_reply": "2022-01-21T06:13:51.577063Z",
     "shell.execute_reply.started": "2022-01-21T06:00:24.618407Z"
    },
    "papermill": {
     "duration": 0.048958,
     "end_time": "2022-01-21T06:13:51.577255",
     "exception": false,
     "start_time": "2022-01-21T06:13:51.528297",
     "status": "completed"
    },
    "tags": []
   },
   "outputs": [
    {
     "data": {
      "text/plain": [
       "array([147115, 146644, 149181, 147114, 149011, 148031, 147754, 147929,\n",
       "       148029, 147926, 146944, 149182, 146511])"
      ]
     },
     "execution_count": 4,
     "metadata": {},
     "output_type": "execute_result"
    }
   ],
   "source": [
    "df['Run'].unique()"
   ]
  },
  {
   "cell_type": "code",
   "execution_count": 5,
   "id": "4769aa6f",
   "metadata": {
    "execution": {
     "iopub.execute_input": "2022-01-21T06:13:51.649924Z",
     "iopub.status.busy": "2022-01-21T06:13:51.649271Z",
     "iopub.status.idle": "2022-01-21T06:13:51.657718Z",
     "shell.execute_reply": "2022-01-21T06:13:51.658299Z",
     "shell.execute_reply.started": "2022-01-21T06:00:24.637403Z"
    },
    "papermill": {
     "duration": 0.046446,
     "end_time": "2022-01-21T06:13:51.658467",
     "exception": false,
     "start_time": "2022-01-21T06:13:51.612021",
     "status": "completed"
    },
    "tags": []
   },
   "outputs": [
    {
     "data": {
      "text/plain": [
       "149181    18109\n",
       "146644    12629\n",
       "149011     9259\n",
       "148031     8195\n",
       "147926     7559\n",
       "147929     6893\n",
       "147754     6838\n",
       "148029     6763\n",
       "147114     6150\n",
       "147115     5844\n",
       "146944     5824\n",
       "146511     3016\n",
       "149182     2921\n",
       "Name: Run, dtype: int64"
      ]
     },
     "execution_count": 5,
     "metadata": {},
     "output_type": "execute_result"
    }
   ],
   "source": [
    "df['Run'].value_counts()"
   ]
  },
  {
   "cell_type": "code",
   "execution_count": 6,
   "id": "305dc5f3",
   "metadata": {
    "execution": {
     "iopub.execute_input": "2022-01-21T06:13:51.733455Z",
     "iopub.status.busy": "2022-01-21T06:13:51.732821Z",
     "iopub.status.idle": "2022-01-21T06:13:51.742073Z",
     "shell.execute_reply": "2022-01-21T06:13:51.742707Z",
     "shell.execute_reply.started": "2022-01-21T06:00:24.653032Z"
    },
    "papermill": {
     "duration": 0.047952,
     "end_time": "2022-01-21T06:13:51.742880",
     "exception": false,
     "start_time": "2022-01-21T06:13:51.694928",
     "status": "completed"
    },
    "tags": []
   },
   "outputs": [
    {
     "data": {
      "text/plain": [
       "99976"
      ]
     },
     "execution_count": 6,
     "metadata": {},
     "output_type": "execute_result"
    }
   ],
   "source": [
    "len(df['Event'].unique())"
   ]
  },
  {
   "cell_type": "code",
   "execution_count": 7,
   "id": "b2fe6d71",
   "metadata": {
    "execution": {
     "iopub.execute_input": "2022-01-21T06:13:51.817626Z",
     "iopub.status.busy": "2022-01-21T06:13:51.816939Z",
     "iopub.status.idle": "2022-01-21T06:13:51.822968Z",
     "shell.execute_reply": "2022-01-21T06:13:51.823526Z",
     "shell.execute_reply.started": "2022-01-21T06:00:24.669509Z"
    },
    "papermill": {
     "duration": 0.044891,
     "end_time": "2022-01-21T06:13:51.823701",
     "exception": false,
     "start_time": "2022-01-21T06:13:51.778810",
     "status": "completed"
    },
    "tags": []
   },
   "outputs": [
    {
     "data": {
      "text/plain": [
       "0"
      ]
     },
     "execution_count": 7,
     "metadata": {},
     "output_type": "execute_result"
    }
   ],
   "source": [
    "df['Event'].isna().sum()"
   ]
  },
  {
   "cell_type": "code",
   "execution_count": 8,
   "id": "5e5e47c9",
   "metadata": {
    "execution": {
     "iopub.execute_input": "2022-01-21T06:13:51.898177Z",
     "iopub.status.busy": "2022-01-21T06:13:51.897499Z",
     "iopub.status.idle": "2022-01-21T06:13:52.053362Z",
     "shell.execute_reply": "2022-01-21T06:13:52.052785Z",
     "shell.execute_reply.started": "2022-01-21T06:00:24.680885Z"
    },
    "papermill": {
     "duration": 0.194162,
     "end_time": "2022-01-21T06:13:52.053513",
     "exception": false,
     "start_time": "2022-01-21T06:13:51.859351",
     "status": "completed"
    },
    "tags": []
   },
   "outputs": [
    {
     "data": {
      "text/plain": [
       "(99977, 19)"
      ]
     },
     "execution_count": 8,
     "metadata": {},
     "output_type": "execute_result"
    }
   ],
   "source": [
    "df = df.drop_duplicates(keep='first')\n",
    "df.shape"
   ]
  },
  {
   "cell_type": "code",
   "execution_count": 9,
   "id": "dbd1b1fe",
   "metadata": {
    "execution": {
     "iopub.execute_input": "2022-01-21T06:13:52.137926Z",
     "iopub.status.busy": "2022-01-21T06:13:52.137170Z",
     "iopub.status.idle": "2022-01-21T06:13:52.153486Z",
     "shell.execute_reply": "2022-01-21T06:13:52.153950Z",
     "shell.execute_reply.started": "2022-01-21T06:00:24.850350Z"
    },
    "papermill": {
     "duration": 0.064449,
     "end_time": "2022-01-21T06:13:52.154141",
     "exception": false,
     "start_time": "2022-01-21T06:13:52.089692",
     "status": "completed"
    },
    "tags": []
   },
   "outputs": [
    {
     "data": {
      "text/html": [
       "<div>\n",
       "<style scoped>\n",
       "    .dataframe tbody tr th:only-of-type {\n",
       "        vertical-align: middle;\n",
       "    }\n",
       "\n",
       "    .dataframe tbody tr th {\n",
       "        vertical-align: top;\n",
       "    }\n",
       "\n",
       "    .dataframe thead th {\n",
       "        text-align: right;\n",
       "    }\n",
       "</style>\n",
       "<table border=\"1\" class=\"dataframe\">\n",
       "  <thead>\n",
       "    <tr style=\"text-align: right;\">\n",
       "      <th></th>\n",
       "      <th>Event</th>\n",
       "      <th>count</th>\n",
       "    </tr>\n",
       "  </thead>\n",
       "  <tbody>\n",
       "    <tr>\n",
       "      <th>418006834</th>\n",
       "      <td>2</td>\n",
       "      <td>NaN</td>\n",
       "    </tr>\n",
       "    <tr>\n",
       "      <th>366639895</th>\n",
       "      <td>1</td>\n",
       "      <td>NaN</td>\n",
       "    </tr>\n",
       "    <tr>\n",
       "      <th>365659086</th>\n",
       "      <td>1</td>\n",
       "      <td>NaN</td>\n",
       "    </tr>\n",
       "    <tr>\n",
       "      <th>367343143</th>\n",
       "      <td>1</td>\n",
       "      <td>NaN</td>\n",
       "    </tr>\n",
       "    <tr>\n",
       "      <th>367699102</th>\n",
       "      <td>1</td>\n",
       "      <td>NaN</td>\n",
       "    </tr>\n",
       "  </tbody>\n",
       "</table>\n",
       "</div>"
      ],
      "text/plain": [
       "           Event count\n",
       "418006834      2   NaN\n",
       "366639895      1   NaN\n",
       "365659086      1   NaN\n",
       "367343143      1   NaN\n",
       "367699102      1   NaN"
      ]
     },
     "execution_count": 9,
     "metadata": {},
     "output_type": "execute_result"
    }
   ],
   "source": [
    "vc_e = pd.DataFrame(data=(df['Event'].value_counts()),columns=['Event','count'])\n",
    "vc_e.head()"
   ]
  },
  {
   "cell_type": "code",
   "execution_count": 10,
   "id": "ea85e21a",
   "metadata": {
    "execution": {
     "iopub.execute_input": "2022-01-21T06:13:52.233438Z",
     "iopub.status.busy": "2022-01-21T06:13:52.231033Z",
     "iopub.status.idle": "2022-01-21T06:13:52.243199Z",
     "shell.execute_reply": "2022-01-21T06:13:52.243711Z",
     "shell.execute_reply.started": "2022-01-21T06:00:24.879415Z"
    },
    "papermill": {
     "duration": 0.052378,
     "end_time": "2022-01-21T06:13:52.243878",
     "exception": false,
     "start_time": "2022-01-21T06:13:52.191500",
     "status": "completed"
    },
    "tags": []
   },
   "outputs": [
    {
     "data": {
      "text/html": [
       "<div>\n",
       "<style scoped>\n",
       "    .dataframe tbody tr th:only-of-type {\n",
       "        vertical-align: middle;\n",
       "    }\n",
       "\n",
       "    .dataframe tbody tr th {\n",
       "        vertical-align: top;\n",
       "    }\n",
       "\n",
       "    .dataframe thead th {\n",
       "        text-align: right;\n",
       "    }\n",
       "</style>\n",
       "<table border=\"1\" class=\"dataframe\">\n",
       "  <thead>\n",
       "    <tr style=\"text-align: right;\">\n",
       "      <th></th>\n",
       "      <th>Event</th>\n",
       "      <th>count</th>\n",
       "    </tr>\n",
       "  </thead>\n",
       "  <tbody>\n",
       "    <tr>\n",
       "      <th>0</th>\n",
       "      <td>418006834</td>\n",
       "      <td>2</td>\n",
       "    </tr>\n",
       "    <tr>\n",
       "      <th>1</th>\n",
       "      <td>366639895</td>\n",
       "      <td>1</td>\n",
       "    </tr>\n",
       "    <tr>\n",
       "      <th>2</th>\n",
       "      <td>365659086</td>\n",
       "      <td>1</td>\n",
       "    </tr>\n",
       "    <tr>\n",
       "      <th>3</th>\n",
       "      <td>367343143</td>\n",
       "      <td>1</td>\n",
       "    </tr>\n",
       "    <tr>\n",
       "      <th>4</th>\n",
       "      <td>367699102</td>\n",
       "      <td>1</td>\n",
       "    </tr>\n",
       "  </tbody>\n",
       "</table>\n",
       "</div>"
      ],
      "text/plain": [
       "       Event  count\n",
       "0  418006834      2\n",
       "1  366639895      1\n",
       "2  365659086      1\n",
       "3  367343143      1\n",
       "4  367699102      1"
      ]
     },
     "execution_count": 10,
     "metadata": {},
     "output_type": "execute_result"
    }
   ],
   "source": [
    "vc_e['count'] = vc_e['Event']\n",
    "vc_e['Event'] = vc_e.index\n",
    "vc_e = vc_e.reset_index(drop=True)\n",
    "vc_e.head()"
   ]
  },
  {
   "cell_type": "code",
   "execution_count": 11,
   "id": "600a10e9",
   "metadata": {
    "execution": {
     "iopub.execute_input": "2022-01-21T06:13:52.321963Z",
     "iopub.status.busy": "2022-01-21T06:13:52.321309Z",
     "iopub.status.idle": "2022-01-21T06:13:52.327940Z",
     "shell.execute_reply": "2022-01-21T06:13:52.328447Z",
     "shell.execute_reply.started": "2022-01-21T06:00:24.899364Z"
    },
    "papermill": {
     "duration": 0.047862,
     "end_time": "2022-01-21T06:13:52.328614",
     "exception": false,
     "start_time": "2022-01-21T06:13:52.280752",
     "status": "completed"
    },
    "tags": []
   },
   "outputs": [
    {
     "data": {
      "text/plain": [
       "(1, 2)"
      ]
     },
     "execution_count": 11,
     "metadata": {},
     "output_type": "execute_result"
    }
   ],
   "source": [
    "vc_e = vc_e.loc[vc_e['count']>1]\n",
    "vc_e.shape"
   ]
  },
  {
   "cell_type": "code",
   "execution_count": 12,
   "id": "aae0e305",
   "metadata": {
    "execution": {
     "iopub.execute_input": "2022-01-21T06:13:52.406116Z",
     "iopub.status.busy": "2022-01-21T06:13:52.405524Z",
     "iopub.status.idle": "2022-01-21T06:13:52.412654Z",
     "shell.execute_reply": "2022-01-21T06:13:52.413218Z",
     "shell.execute_reply.started": "2022-01-21T06:00:24.908457Z"
    },
    "papermill": {
     "duration": 0.047528,
     "end_time": "2022-01-21T06:13:52.413400",
     "exception": false,
     "start_time": "2022-01-21T06:13:52.365872",
     "status": "completed"
    },
    "tags": []
   },
   "outputs": [
    {
     "data": {
      "text/html": [
       "<div>\n",
       "<style scoped>\n",
       "    .dataframe tbody tr th:only-of-type {\n",
       "        vertical-align: middle;\n",
       "    }\n",
       "\n",
       "    .dataframe tbody tr th {\n",
       "        vertical-align: top;\n",
       "    }\n",
       "\n",
       "    .dataframe thead th {\n",
       "        text-align: right;\n",
       "    }\n",
       "</style>\n",
       "<table border=\"1\" class=\"dataframe\">\n",
       "  <thead>\n",
       "    <tr style=\"text-align: right;\">\n",
       "      <th></th>\n",
       "      <th>Event</th>\n",
       "      <th>count</th>\n",
       "    </tr>\n",
       "  </thead>\n",
       "  <tbody>\n",
       "    <tr>\n",
       "      <th>0</th>\n",
       "      <td>418006834</td>\n",
       "      <td>2</td>\n",
       "    </tr>\n",
       "  </tbody>\n",
       "</table>\n",
       "</div>"
      ],
      "text/plain": [
       "       Event  count\n",
       "0  418006834      2"
      ]
     },
     "execution_count": 12,
     "metadata": {},
     "output_type": "execute_result"
    }
   ],
   "source": [
    "vc_e"
   ]
  },
  {
   "cell_type": "code",
   "execution_count": 13,
   "id": "233b3f08",
   "metadata": {
    "execution": {
     "iopub.execute_input": "2022-01-21T06:13:52.493183Z",
     "iopub.status.busy": "2022-01-21T06:13:52.492533Z",
     "iopub.status.idle": "2022-01-21T06:13:52.511853Z",
     "shell.execute_reply": "2022-01-21T06:13:52.512415Z",
     "shell.execute_reply.started": "2022-01-21T06:00:24.924901Z"
    },
    "papermill": {
     "duration": 0.060063,
     "end_time": "2022-01-21T06:13:52.512587",
     "exception": false,
     "start_time": "2022-01-21T06:13:52.452524",
     "status": "completed"
    },
    "tags": []
   },
   "outputs": [
    {
     "data": {
      "text/html": [
       "<div>\n",
       "<style scoped>\n",
       "    .dataframe tbody tr th:only-of-type {\n",
       "        vertical-align: middle;\n",
       "    }\n",
       "\n",
       "    .dataframe tbody tr th {\n",
       "        vertical-align: top;\n",
       "    }\n",
       "\n",
       "    .dataframe thead th {\n",
       "        text-align: right;\n",
       "    }\n",
       "</style>\n",
       "<table border=\"1\" class=\"dataframe\">\n",
       "  <thead>\n",
       "    <tr style=\"text-align: right;\">\n",
       "      <th></th>\n",
       "      <th>Run</th>\n",
       "      <th>Event</th>\n",
       "      <th>E1</th>\n",
       "      <th>px1</th>\n",
       "      <th>py1</th>\n",
       "      <th>pz1</th>\n",
       "      <th>pt1</th>\n",
       "      <th>eta1</th>\n",
       "      <th>phi1</th>\n",
       "      <th>Q1</th>\n",
       "      <th>E2</th>\n",
       "      <th>px2</th>\n",
       "      <th>py2</th>\n",
       "      <th>pz2</th>\n",
       "      <th>pt2</th>\n",
       "      <th>eta2</th>\n",
       "      <th>phi2</th>\n",
       "      <th>Q2</th>\n",
       "      <th>M</th>\n",
       "    </tr>\n",
       "  </thead>\n",
       "  <tbody>\n",
       "    <tr>\n",
       "      <th>39064</th>\n",
       "      <td>147114</td>\n",
       "      <td>418006834</td>\n",
       "      <td>18.7789</td>\n",
       "      <td>5.74359</td>\n",
       "      <td>7.40263</td>\n",
       "      <td>-16.27450</td>\n",
       "      <td>9.36951</td>\n",
       "      <td>-1.319410</td>\n",
       "      <td>0.910934</td>\n",
       "      <td>1</td>\n",
       "      <td>61.61360</td>\n",
       "      <td>23.14570</td>\n",
       "      <td>5.76582</td>\n",
       "      <td>-56.80910</td>\n",
       "      <td>23.8530</td>\n",
       "      <td>-1.602350</td>\n",
       "      <td>0.244141</td>\n",
       "      <td>1</td>\n",
       "      <td>10.66540</td>\n",
       "    </tr>\n",
       "    <tr>\n",
       "      <th>79612</th>\n",
       "      <td>148029</td>\n",
       "      <td>418006834</td>\n",
       "      <td>21.8398</td>\n",
       "      <td>-19.43140</td>\n",
       "      <td>-9.03848</td>\n",
       "      <td>-4.20742</td>\n",
       "      <td>21.43070</td>\n",
       "      <td>-0.195087</td>\n",
       "      <td>-2.706210</td>\n",
       "      <td>-1</td>\n",
       "      <td>7.19454</td>\n",
       "      <td>-6.13848</td>\n",
       "      <td>-1.89557</td>\n",
       "      <td>-3.23839</td>\n",
       "      <td>6.4245</td>\n",
       "      <td>-0.484849</td>\n",
       "      <td>-2.842080</td>\n",
       "      <td>1</td>\n",
       "      <td>3.76546</td>\n",
       "    </tr>\n",
       "  </tbody>\n",
       "</table>\n",
       "</div>"
      ],
      "text/plain": [
       "          Run      Event       E1      px1       py1       pz1       pt1  \\\n",
       "39064  147114  418006834  18.7789   5.74359  7.40263 -16.27450   9.36951   \n",
       "79612  148029  418006834  21.8398 -19.43140 -9.03848  -4.20742  21.43070   \n",
       "\n",
       "           eta1      phi1  Q1        E2       px2      py2       pz2      pt2  \\\n",
       "39064 -1.319410  0.910934   1  61.61360  23.14570  5.76582 -56.80910  23.8530   \n",
       "79612 -0.195087 -2.706210  -1   7.19454  -6.13848 -1.89557  -3.23839   6.4245   \n",
       "\n",
       "           eta2      phi2  Q2         M  \n",
       "39064 -1.602350  0.244141   1  10.66540  \n",
       "79612 -0.484849 -2.842080   1   3.76546  "
      ]
     },
     "execution_count": 13,
     "metadata": {},
     "output_type": "execute_result"
    }
   ],
   "source": [
    "df.loc[df['Event'] == 418006834]"
   ]
  },
  {
   "cell_type": "code",
   "execution_count": 14,
   "id": "efae0339",
   "metadata": {
    "execution": {
     "iopub.execute_input": "2022-01-21T06:13:52.593184Z",
     "iopub.status.busy": "2022-01-21T06:13:52.592535Z",
     "iopub.status.idle": "2022-01-21T06:13:52.612668Z",
     "shell.execute_reply": "2022-01-21T06:13:52.613244Z",
     "shell.execute_reply.started": "2022-01-21T06:00:24.950478Z"
    },
    "papermill": {
     "duration": 0.062005,
     "end_time": "2022-01-21T06:13:52.613541",
     "exception": false,
     "start_time": "2022-01-21T06:13:52.551536",
     "status": "completed"
    },
    "tags": []
   },
   "outputs": [
    {
     "data": {
      "text/html": [
       "<div>\n",
       "<style scoped>\n",
       "    .dataframe tbody tr th:only-of-type {\n",
       "        vertical-align: middle;\n",
       "    }\n",
       "\n",
       "    .dataframe tbody tr th {\n",
       "        vertical-align: top;\n",
       "    }\n",
       "\n",
       "    .dataframe thead th {\n",
       "        text-align: right;\n",
       "    }\n",
       "</style>\n",
       "<table border=\"1\" class=\"dataframe\">\n",
       "  <thead>\n",
       "    <tr style=\"text-align: right;\">\n",
       "      <th></th>\n",
       "      <th>Run</th>\n",
       "      <th>Event</th>\n",
       "      <th>E1</th>\n",
       "      <th>px1</th>\n",
       "      <th>py1</th>\n",
       "      <th>pz1</th>\n",
       "      <th>pt1</th>\n",
       "      <th>eta1</th>\n",
       "      <th>phi1</th>\n",
       "      <th>Q1</th>\n",
       "      <th>E2</th>\n",
       "      <th>px2</th>\n",
       "      <th>py2</th>\n",
       "      <th>pz2</th>\n",
       "      <th>pt2</th>\n",
       "      <th>eta2</th>\n",
       "      <th>phi2</th>\n",
       "      <th>Q2</th>\n",
       "      <th>M</th>\n",
       "    </tr>\n",
       "  </thead>\n",
       "  <tbody>\n",
       "    <tr>\n",
       "      <th>0</th>\n",
       "      <td>147115</td>\n",
       "      <td>366639895</td>\n",
       "      <td>58.71410</td>\n",
       "      <td>-7.31132</td>\n",
       "      <td>10.531000</td>\n",
       "      <td>-57.29740</td>\n",
       "      <td>12.82020</td>\n",
       "      <td>-2.20267</td>\n",
       "      <td>2.17766</td>\n",
       "      <td>1</td>\n",
       "      <td>11.2836</td>\n",
       "      <td>-1.032340</td>\n",
       "      <td>-1.88066</td>\n",
       "      <td>-11.0778</td>\n",
       "      <td>2.14537</td>\n",
       "      <td>-2.344030</td>\n",
       "      <td>-2.072810</td>\n",
       "      <td>-1</td>\n",
       "      <td>8.94841</td>\n",
       "    </tr>\n",
       "    <tr>\n",
       "      <th>1</th>\n",
       "      <td>147115</td>\n",
       "      <td>366704169</td>\n",
       "      <td>6.61188</td>\n",
       "      <td>-4.15213</td>\n",
       "      <td>-0.579855</td>\n",
       "      <td>-5.11278</td>\n",
       "      <td>4.19242</td>\n",
       "      <td>-1.02842</td>\n",
       "      <td>-3.00284</td>\n",
       "      <td>-1</td>\n",
       "      <td>17.1492</td>\n",
       "      <td>-11.713500</td>\n",
       "      <td>5.04474</td>\n",
       "      <td>11.4647</td>\n",
       "      <td>12.75360</td>\n",
       "      <td>0.808077</td>\n",
       "      <td>2.734920</td>\n",
       "      <td>1</td>\n",
       "      <td>15.89300</td>\n",
       "    </tr>\n",
       "    <tr>\n",
       "      <th>2</th>\n",
       "      <td>147115</td>\n",
       "      <td>367112316</td>\n",
       "      <td>25.54190</td>\n",
       "      <td>-11.48090</td>\n",
       "      <td>2.041680</td>\n",
       "      <td>22.72460</td>\n",
       "      <td>11.66100</td>\n",
       "      <td>1.42048</td>\n",
       "      <td>2.96560</td>\n",
       "      <td>1</td>\n",
       "      <td>15.8203</td>\n",
       "      <td>-1.472800</td>\n",
       "      <td>2.25895</td>\n",
       "      <td>-15.5888</td>\n",
       "      <td>2.69667</td>\n",
       "      <td>-2.455080</td>\n",
       "      <td>2.148570</td>\n",
       "      <td>1</td>\n",
       "      <td>38.38770</td>\n",
       "    </tr>\n",
       "    <tr>\n",
       "      <th>3</th>\n",
       "      <td>147115</td>\n",
       "      <td>366952149</td>\n",
       "      <td>65.39590</td>\n",
       "      <td>7.51214</td>\n",
       "      <td>11.887100</td>\n",
       "      <td>63.86620</td>\n",
       "      <td>14.06190</td>\n",
       "      <td>2.21838</td>\n",
       "      <td>1.00721</td>\n",
       "      <td>1</td>\n",
       "      <td>25.1273</td>\n",
       "      <td>4.087860</td>\n",
       "      <td>2.59641</td>\n",
       "      <td>24.6563</td>\n",
       "      <td>4.84272</td>\n",
       "      <td>2.330210</td>\n",
       "      <td>0.565865</td>\n",
       "      <td>-1</td>\n",
       "      <td>3.72862</td>\n",
       "    </tr>\n",
       "    <tr>\n",
       "      <th>4</th>\n",
       "      <td>147115</td>\n",
       "      <td>366523212</td>\n",
       "      <td>61.45040</td>\n",
       "      <td>2.95284</td>\n",
       "      <td>-14.622700</td>\n",
       "      <td>-59.61210</td>\n",
       "      <td>14.91790</td>\n",
       "      <td>-2.09375</td>\n",
       "      <td>-1.37154</td>\n",
       "      <td>-1</td>\n",
       "      <td>13.8871</td>\n",
       "      <td>-0.277757</td>\n",
       "      <td>-2.42560</td>\n",
       "      <td>-13.6708</td>\n",
       "      <td>2.44145</td>\n",
       "      <td>-2.423700</td>\n",
       "      <td>-1.684810</td>\n",
       "      <td>-1</td>\n",
       "      <td>2.74718</td>\n",
       "    </tr>\n",
       "  </tbody>\n",
       "</table>\n",
       "</div>"
      ],
      "text/plain": [
       "      Run      Event        E1      px1         py1       pz1       pt1  \\\n",
       "0  147115  366639895  58.71410  -7.31132  10.531000 -57.29740  12.82020   \n",
       "1  147115  366704169   6.61188  -4.15213  -0.579855  -5.11278   4.19242   \n",
       "2  147115  367112316  25.54190 -11.48090   2.041680  22.72460  11.66100   \n",
       "3  147115  366952149  65.39590   7.51214  11.887100  63.86620  14.06190   \n",
       "4  147115  366523212  61.45040   2.95284 -14.622700 -59.61210  14.91790   \n",
       "\n",
       "      eta1     phi1  Q1       E2        px2      py2      pz2       pt2  \\\n",
       "0 -2.20267  2.17766   1  11.2836  -1.032340 -1.88066 -11.0778   2.14537   \n",
       "1 -1.02842 -3.00284  -1  17.1492 -11.713500  5.04474  11.4647  12.75360   \n",
       "2  1.42048  2.96560   1  15.8203  -1.472800  2.25895 -15.5888   2.69667   \n",
       "3  2.21838  1.00721   1  25.1273   4.087860  2.59641  24.6563   4.84272   \n",
       "4 -2.09375 -1.37154  -1  13.8871  -0.277757 -2.42560 -13.6708   2.44145   \n",
       "\n",
       "       eta2      phi2  Q2         M  \n",
       "0 -2.344030 -2.072810  -1   8.94841  \n",
       "1  0.808077  2.734920   1  15.89300  \n",
       "2 -2.455080  2.148570   1  38.38770  \n",
       "3  2.330210  0.565865  -1   3.72862  \n",
       "4 -2.423700 -1.684810  -1   2.74718  "
      ]
     },
     "execution_count": 14,
     "metadata": {},
     "output_type": "execute_result"
    }
   ],
   "source": [
    "df.head()"
   ]
  },
  {
   "cell_type": "code",
   "execution_count": 15,
   "id": "0839c9f9",
   "metadata": {
    "execution": {
     "iopub.execute_input": "2022-01-21T06:13:52.697532Z",
     "iopub.status.busy": "2022-01-21T06:13:52.696880Z",
     "iopub.status.idle": "2022-01-21T06:13:52.827729Z",
     "shell.execute_reply": "2022-01-21T06:13:52.827114Z",
     "shell.execute_reply.started": "2022-01-21T06:00:24.981950Z"
    },
    "papermill": {
     "duration": 0.172266,
     "end_time": "2022-01-21T06:13:52.827882",
     "exception": false,
     "start_time": "2022-01-21T06:13:52.655616",
     "status": "completed"
    },
    "tags": []
   },
   "outputs": [
    {
     "data": {
      "text/html": [
       "<div>\n",
       "<style scoped>\n",
       "    .dataframe tbody tr th:only-of-type {\n",
       "        vertical-align: middle;\n",
       "    }\n",
       "\n",
       "    .dataframe tbody tr th {\n",
       "        vertical-align: top;\n",
       "    }\n",
       "\n",
       "    .dataframe thead th {\n",
       "        text-align: right;\n",
       "    }\n",
       "</style>\n",
       "<table border=\"1\" class=\"dataframe\">\n",
       "  <thead>\n",
       "    <tr style=\"text-align: right;\">\n",
       "      <th></th>\n",
       "      <th>Run</th>\n",
       "      <th>Event</th>\n",
       "      <th>E1</th>\n",
       "      <th>px1</th>\n",
       "      <th>py1</th>\n",
       "      <th>pz1</th>\n",
       "      <th>pt1</th>\n",
       "      <th>eta1</th>\n",
       "      <th>phi1</th>\n",
       "      <th>Q1</th>\n",
       "      <th>E2</th>\n",
       "      <th>px2</th>\n",
       "      <th>py2</th>\n",
       "      <th>pz2</th>\n",
       "      <th>pt2</th>\n",
       "      <th>eta2</th>\n",
       "      <th>phi2</th>\n",
       "      <th>Q2</th>\n",
       "      <th>M</th>\n",
       "    </tr>\n",
       "  </thead>\n",
       "  <tbody>\n",
       "    <tr>\n",
       "      <th>count</th>\n",
       "      <td>99977.000000</td>\n",
       "      <td>9.997700e+04</td>\n",
       "      <td>99977.000000</td>\n",
       "      <td>99977.000000</td>\n",
       "      <td>99977.000000</td>\n",
       "      <td>99977.000000</td>\n",
       "      <td>99977.000000</td>\n",
       "      <td>99977.000000</td>\n",
       "      <td>99977.000000</td>\n",
       "      <td>99977.000000</td>\n",
       "      <td>99977.000000</td>\n",
       "      <td>99977.000000</td>\n",
       "      <td>99977.000000</td>\n",
       "      <td>99977.000000</td>\n",
       "      <td>99977.000000</td>\n",
       "      <td>99977.000000</td>\n",
       "      <td>99977.000000</td>\n",
       "      <td>99977.000000</td>\n",
       "      <td>99892.000000</td>\n",
       "    </tr>\n",
       "    <tr>\n",
       "      <th>mean</th>\n",
       "      <td>147935.444972</td>\n",
       "      <td>4.957273e+08</td>\n",
       "      <td>36.436050</td>\n",
       "      <td>0.136422</td>\n",
       "      <td>0.182525</td>\n",
       "      <td>-1.511318</td>\n",
       "      <td>14.411852</td>\n",
       "      <td>-0.064172</td>\n",
       "      <td>0.021571</td>\n",
       "      <td>-0.005451</td>\n",
       "      <td>44.005046</td>\n",
       "      <td>-0.003445</td>\n",
       "      <td>0.124291</td>\n",
       "      <td>-1.588849</td>\n",
       "      <td>13.802947</td>\n",
       "      <td>-0.072845</td>\n",
       "      <td>0.021280</td>\n",
       "      <td>-0.004251</td>\n",
       "      <td>30.020882</td>\n",
       "    </tr>\n",
       "    <tr>\n",
       "      <th>std</th>\n",
       "      <td>920.332410</td>\n",
       "      <td>4.038148e+08</td>\n",
       "      <td>41.214202</td>\n",
       "      <td>13.404566</td>\n",
       "      <td>13.470672</td>\n",
       "      <td>51.601666</td>\n",
       "      <td>12.389097</td>\n",
       "      <td>1.462154</td>\n",
       "      <td>1.799564</td>\n",
       "      <td>0.999990</td>\n",
       "      <td>46.752755</td>\n",
       "      <td>13.127970</td>\n",
       "      <td>13.169872</td>\n",
       "      <td>61.432520</td>\n",
       "      <td>12.461194</td>\n",
       "      <td>1.738055</td>\n",
       "      <td>1.816935</td>\n",
       "      <td>0.999996</td>\n",
       "      <td>25.255932</td>\n",
       "    </tr>\n",
       "    <tr>\n",
       "      <th>min</th>\n",
       "      <td>146511.000000</td>\n",
       "      <td>6.414000e+03</td>\n",
       "      <td>0.377928</td>\n",
       "      <td>-250.587000</td>\n",
       "      <td>-126.079000</td>\n",
       "      <td>-840.987000</td>\n",
       "      <td>0.219629</td>\n",
       "      <td>-4.165380</td>\n",
       "      <td>-3.141580</td>\n",
       "      <td>-1.000000</td>\n",
       "      <td>0.472500</td>\n",
       "      <td>-233.730000</td>\n",
       "      <td>-145.651000</td>\n",
       "      <td>-655.396000</td>\n",
       "      <td>0.026651</td>\n",
       "      <td>-7.064790</td>\n",
       "      <td>-3.141580</td>\n",
       "      <td>-1.000000</td>\n",
       "      <td>2.000080</td>\n",
       "    </tr>\n",
       "    <tr>\n",
       "      <th>25%</th>\n",
       "      <td>147114.000000</td>\n",
       "      <td>2.023271e+08</td>\n",
       "      <td>8.457250</td>\n",
       "      <td>-5.233210</td>\n",
       "      <td>-5.277350</td>\n",
       "      <td>-15.861800</td>\n",
       "      <td>3.770630</td>\n",
       "      <td>-1.283920</td>\n",
       "      <td>-1.527180</td>\n",
       "      <td>-1.000000</td>\n",
       "      <td>11.057200</td>\n",
       "      <td>-4.794580</td>\n",
       "      <td>-4.607830</td>\n",
       "      <td>-22.036900</td>\n",
       "      <td>3.738800</td>\n",
       "      <td>-1.892320</td>\n",
       "      <td>-1.556920</td>\n",
       "      <td>-1.000000</td>\n",
       "      <td>12.445850</td>\n",
       "    </tr>\n",
       "    <tr>\n",
       "      <th>50%</th>\n",
       "      <td>147929.000000</td>\n",
       "      <td>3.902231e+08</td>\n",
       "      <td>21.717100</td>\n",
       "      <td>0.141213</td>\n",
       "      <td>0.098888</td>\n",
       "      <td>-0.313493</td>\n",
       "      <td>12.967500</td>\n",
       "      <td>-0.061290</td>\n",
       "      <td>0.034367</td>\n",
       "      <td>-1.000000</td>\n",
       "      <td>25.265200</td>\n",
       "      <td>-0.034957</td>\n",
       "      <td>0.083522</td>\n",
       "      <td>-0.690668</td>\n",
       "      <td>11.692800</td>\n",
       "      <td>-0.136034</td>\n",
       "      <td>0.026967</td>\n",
       "      <td>-1.000000</td>\n",
       "      <td>21.284100</td>\n",
       "    </tr>\n",
       "    <tr>\n",
       "      <th>75%</th>\n",
       "      <td>149011.000000</td>\n",
       "      <td>6.340532e+08</td>\n",
       "      <td>50.018100</td>\n",
       "      <td>5.714980</td>\n",
       "      <td>5.648000</td>\n",
       "      <td>13.209800</td>\n",
       "      <td>20.019000</td>\n",
       "      <td>1.144400</td>\n",
       "      <td>1.562340</td>\n",
       "      <td>1.000000</td>\n",
       "      <td>66.926800</td>\n",
       "      <td>4.820140</td>\n",
       "      <td>5.062070</td>\n",
       "      <td>19.008400</td>\n",
       "      <td>19.597500</td>\n",
       "      <td>1.768260</td>\n",
       "      <td>1.596570</td>\n",
       "      <td>1.000000</td>\n",
       "      <td>39.028550</td>\n",
       "    </tr>\n",
       "    <tr>\n",
       "      <th>max</th>\n",
       "      <td>149182.000000</td>\n",
       "      <td>1.791247e+09</td>\n",
       "      <td>850.602000</td>\n",
       "      <td>134.539000</td>\n",
       "      <td>147.467000</td>\n",
       "      <td>760.096000</td>\n",
       "      <td>265.578000</td>\n",
       "      <td>2.622970</td>\n",
       "      <td>3.141420</td>\n",
       "      <td>1.000000</td>\n",
       "      <td>948.375000</td>\n",
       "      <td>227.330000</td>\n",
       "      <td>166.283000</td>\n",
       "      <td>935.558000</td>\n",
       "      <td>281.654000</td>\n",
       "      <td>3.060550</td>\n",
       "      <td>3.141290</td>\n",
       "      <td>1.000000</td>\n",
       "      <td>109.999000</td>\n",
       "    </tr>\n",
       "  </tbody>\n",
       "</table>\n",
       "</div>"
      ],
      "text/plain": [
       "                 Run         Event            E1          px1            py1  \\\n",
       "count   99977.000000  9.997700e+04  99977.000000  99977.000000  99977.000000   \n",
       "mean   147935.444972  4.957273e+08     36.436050      0.136422      0.182525   \n",
       "std       920.332410  4.038148e+08     41.214202     13.404566     13.470672   \n",
       "min    146511.000000  6.414000e+03      0.377928   -250.587000   -126.079000   \n",
       "25%    147114.000000  2.023271e+08      8.457250     -5.233210     -5.277350   \n",
       "50%    147929.000000  3.902231e+08     21.717100      0.141213      0.098888   \n",
       "75%    149011.000000  6.340532e+08     50.018100      5.714980      5.648000   \n",
       "max    149182.000000  1.791247e+09    850.602000    134.539000    147.467000   \n",
       "\n",
       "                pz1           pt1          eta1          phi1            Q1  \\\n",
       "count  99977.000000  99977.000000  99977.000000  99977.000000  99977.000000   \n",
       "mean      -1.511318     14.411852     -0.064172      0.021571     -0.005451   \n",
       "std       51.601666     12.389097      1.462154      1.799564      0.999990   \n",
       "min     -840.987000      0.219629     -4.165380     -3.141580     -1.000000   \n",
       "25%      -15.861800      3.770630     -1.283920     -1.527180     -1.000000   \n",
       "50%       -0.313493     12.967500     -0.061290      0.034367     -1.000000   \n",
       "75%       13.209800     20.019000      1.144400      1.562340      1.000000   \n",
       "max      760.096000    265.578000      2.622970      3.141420      1.000000   \n",
       "\n",
       "                 E2           px2           py2           pz2           pt2  \\\n",
       "count  99977.000000  99977.000000  99977.000000  99977.000000  99977.000000   \n",
       "mean      44.005046     -0.003445      0.124291     -1.588849     13.802947   \n",
       "std       46.752755     13.127970     13.169872     61.432520     12.461194   \n",
       "min        0.472500   -233.730000   -145.651000   -655.396000      0.026651   \n",
       "25%       11.057200     -4.794580     -4.607830    -22.036900      3.738800   \n",
       "50%       25.265200     -0.034957      0.083522     -0.690668     11.692800   \n",
       "75%       66.926800      4.820140      5.062070     19.008400     19.597500   \n",
       "max      948.375000    227.330000    166.283000    935.558000    281.654000   \n",
       "\n",
       "               eta2          phi2            Q2             M  \n",
       "count  99977.000000  99977.000000  99977.000000  99892.000000  \n",
       "mean      -0.072845      0.021280     -0.004251     30.020882  \n",
       "std        1.738055      1.816935      0.999996     25.255932  \n",
       "min       -7.064790     -3.141580     -1.000000      2.000080  \n",
       "25%       -1.892320     -1.556920     -1.000000     12.445850  \n",
       "50%       -0.136034      0.026967     -1.000000     21.284100  \n",
       "75%        1.768260      1.596570      1.000000     39.028550  \n",
       "max        3.060550      3.141290      1.000000    109.999000  "
      ]
     },
     "execution_count": 15,
     "metadata": {},
     "output_type": "execute_result"
    }
   ],
   "source": [
    "df.describe()"
   ]
  },
  {
   "cell_type": "code",
   "execution_count": 16,
   "id": "b322135b",
   "metadata": {
    "execution": {
     "iopub.execute_input": "2022-01-21T06:13:52.910331Z",
     "iopub.status.busy": "2022-01-21T06:13:52.909692Z",
     "iopub.status.idle": "2022-01-21T06:13:52.928508Z",
     "shell.execute_reply": "2022-01-21T06:13:52.929058Z",
     "shell.execute_reply.started": "2022-01-21T06:00:25.117214Z"
    },
    "papermill": {
     "duration": 0.061668,
     "end_time": "2022-01-21T06:13:52.929272",
     "exception": false,
     "start_time": "2022-01-21T06:13:52.867604",
     "status": "completed"
    },
    "tags": []
   },
   "outputs": [
    {
     "name": "stdout",
     "output_type": "stream",
     "text": [
      "<class 'pandas.core.frame.DataFrame'>\n",
      "Int64Index: 99977 entries, 0 to 99999\n",
      "Data columns (total 19 columns):\n",
      " #   Column  Non-Null Count  Dtype  \n",
      "---  ------  --------------  -----  \n",
      " 0   Run     99977 non-null  int64  \n",
      " 1   Event   99977 non-null  int64  \n",
      " 2   E1      99977 non-null  float64\n",
      " 3   px1     99977 non-null  float64\n",
      " 4   py1     99977 non-null  float64\n",
      " 5   pz1     99977 non-null  float64\n",
      " 6   pt1     99977 non-null  float64\n",
      " 7   eta1    99977 non-null  float64\n",
      " 8   phi1    99977 non-null  float64\n",
      " 9   Q1      99977 non-null  int64  \n",
      " 10  E2      99977 non-null  float64\n",
      " 11  px2     99977 non-null  float64\n",
      " 12  py2     99977 non-null  float64\n",
      " 13  pz2     99977 non-null  float64\n",
      " 14  pt2     99977 non-null  float64\n",
      " 15  eta2    99977 non-null  float64\n",
      " 16  phi2    99977 non-null  float64\n",
      " 17  Q2      99977 non-null  int64  \n",
      " 18  M       99892 non-null  float64\n",
      "dtypes: float64(15), int64(4)\n",
      "memory usage: 15.3 MB\n"
     ]
    }
   ],
   "source": [
    "df.info()"
   ]
  },
  {
   "cell_type": "code",
   "execution_count": 17,
   "id": "3168e02d",
   "metadata": {
    "execution": {
     "iopub.execute_input": "2022-01-21T06:13:53.012291Z",
     "iopub.status.busy": "2022-01-21T06:13:53.011621Z",
     "iopub.status.idle": "2022-01-21T06:13:53.017079Z",
     "shell.execute_reply": "2022-01-21T06:13:53.017591Z",
     "shell.execute_reply.started": "2022-01-21T06:00:25.135624Z"
    },
    "papermill": {
     "duration": 0.048678,
     "end_time": "2022-01-21T06:13:53.017768",
     "exception": false,
     "start_time": "2022-01-21T06:13:52.969090",
     "status": "completed"
    },
    "tags": []
   },
   "outputs": [
    {
     "data": {
      "text/plain": [
       "array([ 1, -1])"
      ]
     },
     "execution_count": 17,
     "metadata": {},
     "output_type": "execute_result"
    }
   ],
   "source": [
    "df['Q1'].unique()"
   ]
  },
  {
   "cell_type": "code",
   "execution_count": 18,
   "id": "d1c5a29c",
   "metadata": {
    "execution": {
     "iopub.execute_input": "2022-01-21T06:13:53.102674Z",
     "iopub.status.busy": "2022-01-21T06:13:53.101976Z",
     "iopub.status.idle": "2022-01-21T06:13:53.107821Z",
     "shell.execute_reply": "2022-01-21T06:13:53.108439Z",
     "shell.execute_reply.started": "2022-01-21T06:00:25.144554Z"
    },
    "papermill": {
     "duration": 0.050145,
     "end_time": "2022-01-21T06:13:53.108616",
     "exception": false,
     "start_time": "2022-01-21T06:13:53.058471",
     "status": "completed"
    },
    "tags": []
   },
   "outputs": [
    {
     "data": {
      "text/plain": [
       "array([-1,  1])"
      ]
     },
     "execution_count": 18,
     "metadata": {},
     "output_type": "execute_result"
    }
   ],
   "source": [
    "df['Q2'].unique()"
   ]
  },
  {
   "cell_type": "code",
   "execution_count": 19,
   "id": "e31c22ed",
   "metadata": {
    "execution": {
     "iopub.execute_input": "2022-01-21T06:13:53.193950Z",
     "iopub.status.busy": "2022-01-21T06:13:53.193294Z",
     "iopub.status.idle": "2022-01-21T06:13:53.203801Z",
     "shell.execute_reply": "2022-01-21T06:13:53.204302Z",
     "shell.execute_reply.started": "2022-01-21T06:00:25.159603Z"
    },
    "papermill": {
     "duration": 0.054564,
     "end_time": "2022-01-21T06:13:53.204469",
     "exception": false,
     "start_time": "2022-01-21T06:13:53.149905",
     "status": "completed"
    },
    "tags": []
   },
   "outputs": [
    {
     "data": {
      "text/plain": [
       "Run       0\n",
       "Event     0\n",
       "E1        0\n",
       "px1       0\n",
       "py1       0\n",
       "pz1       0\n",
       "pt1       0\n",
       "eta1      0\n",
       "phi1      0\n",
       "Q1        0\n",
       "E2        0\n",
       "px2       0\n",
       "py2       0\n",
       "pz2       0\n",
       "pt2       0\n",
       "eta2      0\n",
       "phi2      0\n",
       "Q2        0\n",
       "M        85\n",
       "dtype: int64"
      ]
     },
     "execution_count": 19,
     "metadata": {},
     "output_type": "execute_result"
    }
   ],
   "source": [
    "df.isna().sum()"
   ]
  },
  {
   "cell_type": "code",
   "execution_count": 20,
   "id": "189bfa47",
   "metadata": {
    "execution": {
     "iopub.execute_input": "2022-01-21T06:13:53.289549Z",
     "iopub.status.busy": "2022-01-21T06:13:53.288899Z",
     "iopub.status.idle": "2022-01-21T06:13:53.318962Z",
     "shell.execute_reply": "2022-01-21T06:13:53.319475Z",
     "shell.execute_reply.started": "2022-01-21T06:00:25.177669Z"
    },
    "papermill": {
     "duration": 0.074135,
     "end_time": "2022-01-21T06:13:53.319644",
     "exception": false,
     "start_time": "2022-01-21T06:13:53.245509",
     "status": "completed"
    },
    "tags": []
   },
   "outputs": [
    {
     "data": {
      "text/html": [
       "<div>\n",
       "<style scoped>\n",
       "    .dataframe tbody tr th:only-of-type {\n",
       "        vertical-align: middle;\n",
       "    }\n",
       "\n",
       "    .dataframe tbody tr th {\n",
       "        vertical-align: top;\n",
       "    }\n",
       "\n",
       "    .dataframe thead th {\n",
       "        text-align: right;\n",
       "    }\n",
       "</style>\n",
       "<table border=\"1\" class=\"dataframe\">\n",
       "  <thead>\n",
       "    <tr style=\"text-align: right;\">\n",
       "      <th></th>\n",
       "      <th>Run</th>\n",
       "      <th>Event</th>\n",
       "      <th>E1</th>\n",
       "      <th>px1</th>\n",
       "      <th>py1</th>\n",
       "      <th>pz1</th>\n",
       "      <th>pt1</th>\n",
       "      <th>eta1</th>\n",
       "      <th>phi1</th>\n",
       "      <th>Q1</th>\n",
       "      <th>E2</th>\n",
       "      <th>px2</th>\n",
       "      <th>py2</th>\n",
       "      <th>pz2</th>\n",
       "      <th>pt2</th>\n",
       "      <th>eta2</th>\n",
       "      <th>phi2</th>\n",
       "      <th>Q2</th>\n",
       "      <th>M</th>\n",
       "    </tr>\n",
       "  </thead>\n",
       "  <tbody>\n",
       "    <tr>\n",
       "      <th>2354</th>\n",
       "      <td>147115</td>\n",
       "      <td>626787667</td>\n",
       "      <td>2.552450</td>\n",
       "      <td>0.783675</td>\n",
       "      <td>-2.42902</td>\n",
       "      <td>-0.026877</td>\n",
       "      <td>2.552310</td>\n",
       "      <td>-0.010530</td>\n",
       "      <td>-1.25871</td>\n",
       "      <td>1</td>\n",
       "      <td>14.27670</td>\n",
       "      <td>4.387350</td>\n",
       "      <td>-13.58510</td>\n",
       "      <td>-0.142737</td>\n",
       "      <td>14.27600</td>\n",
       "      <td>-0.009998</td>\n",
       "      <td>-1.258420</td>\n",
       "      <td>-1</td>\n",
       "      <td>NaN</td>\n",
       "    </tr>\n",
       "    <tr>\n",
       "      <th>4428</th>\n",
       "      <td>147115</td>\n",
       "      <td>222901013</td>\n",
       "      <td>2.537850</td>\n",
       "      <td>-1.024290</td>\n",
       "      <td>-1.94845</td>\n",
       "      <td>-1.262950</td>\n",
       "      <td>2.201280</td>\n",
       "      <td>-0.546171</td>\n",
       "      <td>-2.05479</td>\n",
       "      <td>1</td>\n",
       "      <td>22.00250</td>\n",
       "      <td>-8.881480</td>\n",
       "      <td>-16.89470</td>\n",
       "      <td>-10.945300</td>\n",
       "      <td>19.08690</td>\n",
       "      <td>-0.545920</td>\n",
       "      <td>-2.054790</td>\n",
       "      <td>-1</td>\n",
       "      <td>NaN</td>\n",
       "    </tr>\n",
       "    <tr>\n",
       "      <th>5035</th>\n",
       "      <td>147115</td>\n",
       "      <td>251148678</td>\n",
       "      <td>2.914610</td>\n",
       "      <td>1.578570</td>\n",
       "      <td>2.33753</td>\n",
       "      <td>0.734179</td>\n",
       "      <td>2.820620</td>\n",
       "      <td>0.257437</td>\n",
       "      <td>0.97683</td>\n",
       "      <td>-1</td>\n",
       "      <td>16.58530</td>\n",
       "      <td>8.977390</td>\n",
       "      <td>13.30470</td>\n",
       "      <td>4.178960</td>\n",
       "      <td>16.05020</td>\n",
       "      <td>0.257513</td>\n",
       "      <td>0.977215</td>\n",
       "      <td>1</td>\n",
       "      <td>NaN</td>\n",
       "    </tr>\n",
       "    <tr>\n",
       "      <th>6066</th>\n",
       "      <td>146644</td>\n",
       "      <td>908463569</td>\n",
       "      <td>19.896200</td>\n",
       "      <td>-11.256100</td>\n",
       "      <td>12.47620</td>\n",
       "      <td>-10.653800</td>\n",
       "      <td>16.803400</td>\n",
       "      <td>-0.597779</td>\n",
       "      <td>2.30483</td>\n",
       "      <td>-1</td>\n",
       "      <td>2.41704</td>\n",
       "      <td>-1.366660</td>\n",
       "      <td>1.51671</td>\n",
       "      <td>-1.293790</td>\n",
       "      <td>2.04161</td>\n",
       "      <td>-0.597517</td>\n",
       "      <td>2.304200</td>\n",
       "      <td>1</td>\n",
       "      <td>NaN</td>\n",
       "    </tr>\n",
       "    <tr>\n",
       "      <th>6667</th>\n",
       "      <td>146644</td>\n",
       "      <td>588243059</td>\n",
       "      <td>3.610600</td>\n",
       "      <td>-1.635780</td>\n",
       "      <td>-2.64885</td>\n",
       "      <td>-1.828730</td>\n",
       "      <td>3.113230</td>\n",
       "      <td>-0.557996</td>\n",
       "      <td>-2.12402</td>\n",
       "      <td>1</td>\n",
       "      <td>26.11550</td>\n",
       "      <td>-11.836800</td>\n",
       "      <td>-19.16480</td>\n",
       "      <td>-13.214400</td>\n",
       "      <td>22.52550</td>\n",
       "      <td>-0.557335</td>\n",
       "      <td>-2.124080</td>\n",
       "      <td>-1</td>\n",
       "      <td>NaN</td>\n",
       "    </tr>\n",
       "    <tr>\n",
       "      <th>...</th>\n",
       "      <td>...</td>\n",
       "      <td>...</td>\n",
       "      <td>...</td>\n",
       "      <td>...</td>\n",
       "      <td>...</td>\n",
       "      <td>...</td>\n",
       "      <td>...</td>\n",
       "      <td>...</td>\n",
       "      <td>...</td>\n",
       "      <td>...</td>\n",
       "      <td>...</td>\n",
       "      <td>...</td>\n",
       "      <td>...</td>\n",
       "      <td>...</td>\n",
       "      <td>...</td>\n",
       "      <td>...</td>\n",
       "      <td>...</td>\n",
       "      <td>...</td>\n",
       "      <td>...</td>\n",
       "    </tr>\n",
       "    <tr>\n",
       "      <th>95396</th>\n",
       "      <td>149182</td>\n",
       "      <td>227768088</td>\n",
       "      <td>0.994475</td>\n",
       "      <td>0.358496</td>\n",
       "      <td>-0.56898</td>\n",
       "      <td>-0.732614</td>\n",
       "      <td>0.672501</td>\n",
       "      <td>-0.943190</td>\n",
       "      <td>-1.00856</td>\n",
       "      <td>1</td>\n",
       "      <td>37.43420</td>\n",
       "      <td>13.518500</td>\n",
       "      <td>-21.38920</td>\n",
       "      <td>-27.587500</td>\n",
       "      <td>25.30310</td>\n",
       "      <td>-0.943794</td>\n",
       "      <td>-1.007160</td>\n",
       "      <td>-1</td>\n",
       "      <td>NaN</td>\n",
       "    </tr>\n",
       "    <tr>\n",
       "      <th>96087</th>\n",
       "      <td>149182</td>\n",
       "      <td>233450553</td>\n",
       "      <td>4.573870</td>\n",
       "      <td>-3.415140</td>\n",
       "      <td>2.97767</td>\n",
       "      <td>0.624910</td>\n",
       "      <td>4.530980</td>\n",
       "      <td>0.137486</td>\n",
       "      <td>2.42452</td>\n",
       "      <td>1</td>\n",
       "      <td>18.09420</td>\n",
       "      <td>-13.515300</td>\n",
       "      <td>11.77250</td>\n",
       "      <td>2.478260</td>\n",
       "      <td>17.92370</td>\n",
       "      <td>0.137831</td>\n",
       "      <td>2.425000</td>\n",
       "      <td>-1</td>\n",
       "      <td>NaN</td>\n",
       "    </tr>\n",
       "    <tr>\n",
       "      <th>96394</th>\n",
       "      <td>149182</td>\n",
       "      <td>99636450</td>\n",
       "      <td>12.192400</td>\n",
       "      <td>0.074398</td>\n",
       "      <td>-11.73300</td>\n",
       "      <td>3.314690</td>\n",
       "      <td>11.733200</td>\n",
       "      <td>0.278877</td>\n",
       "      <td>-1.56446</td>\n",
       "      <td>-1</td>\n",
       "      <td>6.01043</td>\n",
       "      <td>0.038936</td>\n",
       "      <td>-5.78425</td>\n",
       "      <td>1.632860</td>\n",
       "      <td>5.78438</td>\n",
       "      <td>0.278666</td>\n",
       "      <td>-1.564060</td>\n",
       "      <td>1</td>\n",
       "      <td>NaN</td>\n",
       "    </tr>\n",
       "    <tr>\n",
       "      <th>97996</th>\n",
       "      <td>146511</td>\n",
       "      <td>240272111</td>\n",
       "      <td>5.165580</td>\n",
       "      <td>-4.391900</td>\n",
       "      <td>-1.96237</td>\n",
       "      <td>1.882430</td>\n",
       "      <td>4.810370</td>\n",
       "      <td>0.381970</td>\n",
       "      <td>-2.72139</td>\n",
       "      <td>-1</td>\n",
       "      <td>13.72540</td>\n",
       "      <td>-11.669700</td>\n",
       "      <td>-5.21431</td>\n",
       "      <td>5.001750</td>\n",
       "      <td>12.78160</td>\n",
       "      <td>0.381967</td>\n",
       "      <td>-2.721380</td>\n",
       "      <td>1</td>\n",
       "      <td>NaN</td>\n",
       "    </tr>\n",
       "    <tr>\n",
       "      <th>98830</th>\n",
       "      <td>146511</td>\n",
       "      <td>53158595</td>\n",
       "      <td>4.381430</td>\n",
       "      <td>-2.846570</td>\n",
       "      <td>-3.03007</td>\n",
       "      <td>1.382980</td>\n",
       "      <td>4.157440</td>\n",
       "      <td>0.326803</td>\n",
       "      <td>-2.32498</td>\n",
       "      <td>-1</td>\n",
       "      <td>14.31800</td>\n",
       "      <td>-9.302580</td>\n",
       "      <td>-9.90127</td>\n",
       "      <td>4.520020</td>\n",
       "      <td>13.58580</td>\n",
       "      <td>0.326852</td>\n",
       "      <td>-2.325030</td>\n",
       "      <td>1</td>\n",
       "      <td>NaN</td>\n",
       "    </tr>\n",
       "  </tbody>\n",
       "</table>\n",
       "<p>85 rows × 19 columns</p>\n",
       "</div>"
      ],
      "text/plain": [
       "          Run      Event         E1       px1        py1        pz1  \\\n",
       "2354   147115  626787667   2.552450   0.783675  -2.42902  -0.026877   \n",
       "4428   147115  222901013   2.537850  -1.024290  -1.94845  -1.262950   \n",
       "5035   147115  251148678   2.914610   1.578570   2.33753   0.734179   \n",
       "6066   146644  908463569  19.896200 -11.256100  12.47620 -10.653800   \n",
       "6667   146644  588243059   3.610600  -1.635780  -2.64885  -1.828730   \n",
       "...       ...        ...        ...        ...       ...        ...   \n",
       "95396  149182  227768088   0.994475   0.358496  -0.56898  -0.732614   \n",
       "96087  149182  233450553   4.573870  -3.415140   2.97767   0.624910   \n",
       "96394  149182   99636450  12.192400   0.074398 -11.73300   3.314690   \n",
       "97996  146511  240272111   5.165580  -4.391900  -1.96237   1.882430   \n",
       "98830  146511   53158595   4.381430  -2.846570  -3.03007   1.382980   \n",
       "\n",
       "             pt1      eta1     phi1  Q1        E2        px2       py2  \\\n",
       "2354    2.552310 -0.010530 -1.25871   1  14.27670   4.387350 -13.58510   \n",
       "4428    2.201280 -0.546171 -2.05479   1  22.00250  -8.881480 -16.89470   \n",
       "5035    2.820620  0.257437  0.97683  -1  16.58530   8.977390  13.30470   \n",
       "6066   16.803400 -0.597779  2.30483  -1   2.41704  -1.366660   1.51671   \n",
       "6667    3.113230 -0.557996 -2.12402   1  26.11550 -11.836800 -19.16480   \n",
       "...          ...       ...      ...  ..       ...        ...       ...   \n",
       "95396   0.672501 -0.943190 -1.00856   1  37.43420  13.518500 -21.38920   \n",
       "96087   4.530980  0.137486  2.42452   1  18.09420 -13.515300  11.77250   \n",
       "96394  11.733200  0.278877 -1.56446  -1   6.01043   0.038936  -5.78425   \n",
       "97996   4.810370  0.381970 -2.72139  -1  13.72540 -11.669700  -5.21431   \n",
       "98830   4.157440  0.326803 -2.32498  -1  14.31800  -9.302580  -9.90127   \n",
       "\n",
       "             pz2       pt2      eta2      phi2  Q2   M  \n",
       "2354   -0.142737  14.27600 -0.009998 -1.258420  -1 NaN  \n",
       "4428  -10.945300  19.08690 -0.545920 -2.054790  -1 NaN  \n",
       "5035    4.178960  16.05020  0.257513  0.977215   1 NaN  \n",
       "6066   -1.293790   2.04161 -0.597517  2.304200   1 NaN  \n",
       "6667  -13.214400  22.52550 -0.557335 -2.124080  -1 NaN  \n",
       "...          ...       ...       ...       ...  ..  ..  \n",
       "95396 -27.587500  25.30310 -0.943794 -1.007160  -1 NaN  \n",
       "96087   2.478260  17.92370  0.137831  2.425000  -1 NaN  \n",
       "96394   1.632860   5.78438  0.278666 -1.564060   1 NaN  \n",
       "97996   5.001750  12.78160  0.381967 -2.721380   1 NaN  \n",
       "98830   4.520020  13.58580  0.326852 -2.325030   1 NaN  \n",
       "\n",
       "[85 rows x 19 columns]"
      ]
     },
     "execution_count": 20,
     "metadata": {},
     "output_type": "execute_result"
    }
   ],
   "source": [
    "df[df.isna().any(axis=1)]"
   ]
  },
  {
   "cell_type": "code",
   "execution_count": 21,
   "id": "2d3d24f7",
   "metadata": {
    "execution": {
     "iopub.execute_input": "2022-01-21T06:13:53.409175Z",
     "iopub.status.busy": "2022-01-21T06:13:53.408525Z",
     "iopub.status.idle": "2022-01-21T06:13:53.430113Z",
     "shell.execute_reply": "2022-01-21T06:13:53.430619Z",
     "shell.execute_reply.started": "2022-01-21T06:00:25.209059Z"
    },
    "papermill": {
     "duration": 0.069321,
     "end_time": "2022-01-21T06:13:53.430811",
     "exception": false,
     "start_time": "2022-01-21T06:13:53.361490",
     "status": "completed"
    },
    "tags": []
   },
   "outputs": [],
   "source": [
    "df = df.dropna()\n",
    "df = df.reset_index(drop=True)"
   ]
  },
  {
   "cell_type": "code",
   "execution_count": 22,
   "id": "0178ed45",
   "metadata": {
    "execution": {
     "iopub.execute_input": "2022-01-21T06:13:53.518868Z",
     "iopub.status.busy": "2022-01-21T06:13:53.516810Z",
     "iopub.status.idle": "2022-01-21T06:13:53.522497Z",
     "shell.execute_reply": "2022-01-21T06:13:53.521926Z",
     "shell.execute_reply.started": "2022-01-21T06:00:25.231786Z"
    },
    "papermill": {
     "duration": 0.049969,
     "end_time": "2022-01-21T06:13:53.522635",
     "exception": false,
     "start_time": "2022-01-21T06:13:53.472666",
     "status": "completed"
    },
    "tags": []
   },
   "outputs": [
    {
     "data": {
      "text/plain": [
       "(99892, 19)"
      ]
     },
     "execution_count": 22,
     "metadata": {},
     "output_type": "execute_result"
    }
   ],
   "source": [
    "df.shape"
   ]
  },
  {
   "cell_type": "code",
   "execution_count": 23,
   "id": "c4ae255d",
   "metadata": {
    "execution": {
     "iopub.execute_input": "2022-01-21T06:13:53.611873Z",
     "iopub.status.busy": "2022-01-21T06:13:53.611183Z",
     "iopub.status.idle": "2022-01-21T06:13:53.620560Z",
     "shell.execute_reply": "2022-01-21T06:13:53.621060Z",
     "shell.execute_reply.started": "2022-01-21T06:00:25.238630Z"
    },
    "papermill": {
     "duration": 0.056286,
     "end_time": "2022-01-21T06:13:53.621260",
     "exception": false,
     "start_time": "2022-01-21T06:13:53.564974",
     "status": "completed"
    },
    "tags": []
   },
   "outputs": [],
   "source": [
    "num = df.drop(columns=['Q1','Q2'],axis=1)\n",
    "cat = df[['Q1','Q2','M']]"
   ]
  },
  {
   "cell_type": "code",
   "execution_count": 24,
   "id": "7380ad30",
   "metadata": {
    "execution": {
     "iopub.execute_input": "2022-01-21T06:13:53.728532Z",
     "iopub.status.busy": "2022-01-21T06:13:53.727779Z",
     "iopub.status.idle": "2022-01-21T06:13:53.731686Z",
     "shell.execute_reply": "2022-01-21T06:13:53.731003Z",
     "shell.execute_reply.started": "2022-01-21T06:00:25.257788Z"
    },
    "papermill": {
     "duration": 0.067601,
     "end_time": "2022-01-21T06:13:53.731830",
     "exception": false,
     "start_time": "2022-01-21T06:13:53.664229",
     "status": "completed"
    },
    "tags": []
   },
   "outputs": [
    {
     "data": {
      "text/html": [
       "<div>\n",
       "<style scoped>\n",
       "    .dataframe tbody tr th:only-of-type {\n",
       "        vertical-align: middle;\n",
       "    }\n",
       "\n",
       "    .dataframe tbody tr th {\n",
       "        vertical-align: top;\n",
       "    }\n",
       "\n",
       "    .dataframe thead th {\n",
       "        text-align: right;\n",
       "    }\n",
       "</style>\n",
       "<table border=\"1\" class=\"dataframe\">\n",
       "  <thead>\n",
       "    <tr style=\"text-align: right;\">\n",
       "      <th></th>\n",
       "      <th>Run</th>\n",
       "      <th>Event</th>\n",
       "      <th>E1</th>\n",
       "      <th>px1</th>\n",
       "      <th>py1</th>\n",
       "      <th>pz1</th>\n",
       "      <th>pt1</th>\n",
       "      <th>eta1</th>\n",
       "      <th>phi1</th>\n",
       "      <th>E2</th>\n",
       "      <th>px2</th>\n",
       "      <th>py2</th>\n",
       "      <th>pz2</th>\n",
       "      <th>pt2</th>\n",
       "      <th>eta2</th>\n",
       "      <th>phi2</th>\n",
       "      <th>M</th>\n",
       "    </tr>\n",
       "  </thead>\n",
       "  <tbody>\n",
       "    <tr>\n",
       "      <th>0</th>\n",
       "      <td>147115</td>\n",
       "      <td>366639895</td>\n",
       "      <td>58.71410</td>\n",
       "      <td>-7.31132</td>\n",
       "      <td>10.531000</td>\n",
       "      <td>-57.29740</td>\n",
       "      <td>12.82020</td>\n",
       "      <td>-2.20267</td>\n",
       "      <td>2.17766</td>\n",
       "      <td>11.2836</td>\n",
       "      <td>-1.032340</td>\n",
       "      <td>-1.88066</td>\n",
       "      <td>-11.0778</td>\n",
       "      <td>2.14537</td>\n",
       "      <td>-2.344030</td>\n",
       "      <td>-2.072810</td>\n",
       "      <td>8.94841</td>\n",
       "    </tr>\n",
       "    <tr>\n",
       "      <th>1</th>\n",
       "      <td>147115</td>\n",
       "      <td>366704169</td>\n",
       "      <td>6.61188</td>\n",
       "      <td>-4.15213</td>\n",
       "      <td>-0.579855</td>\n",
       "      <td>-5.11278</td>\n",
       "      <td>4.19242</td>\n",
       "      <td>-1.02842</td>\n",
       "      <td>-3.00284</td>\n",
       "      <td>17.1492</td>\n",
       "      <td>-11.713500</td>\n",
       "      <td>5.04474</td>\n",
       "      <td>11.4647</td>\n",
       "      <td>12.75360</td>\n",
       "      <td>0.808077</td>\n",
       "      <td>2.734920</td>\n",
       "      <td>15.89300</td>\n",
       "    </tr>\n",
       "    <tr>\n",
       "      <th>2</th>\n",
       "      <td>147115</td>\n",
       "      <td>367112316</td>\n",
       "      <td>25.54190</td>\n",
       "      <td>-11.48090</td>\n",
       "      <td>2.041680</td>\n",
       "      <td>22.72460</td>\n",
       "      <td>11.66100</td>\n",
       "      <td>1.42048</td>\n",
       "      <td>2.96560</td>\n",
       "      <td>15.8203</td>\n",
       "      <td>-1.472800</td>\n",
       "      <td>2.25895</td>\n",
       "      <td>-15.5888</td>\n",
       "      <td>2.69667</td>\n",
       "      <td>-2.455080</td>\n",
       "      <td>2.148570</td>\n",
       "      <td>38.38770</td>\n",
       "    </tr>\n",
       "    <tr>\n",
       "      <th>3</th>\n",
       "      <td>147115</td>\n",
       "      <td>366952149</td>\n",
       "      <td>65.39590</td>\n",
       "      <td>7.51214</td>\n",
       "      <td>11.887100</td>\n",
       "      <td>63.86620</td>\n",
       "      <td>14.06190</td>\n",
       "      <td>2.21838</td>\n",
       "      <td>1.00721</td>\n",
       "      <td>25.1273</td>\n",
       "      <td>4.087860</td>\n",
       "      <td>2.59641</td>\n",
       "      <td>24.6563</td>\n",
       "      <td>4.84272</td>\n",
       "      <td>2.330210</td>\n",
       "      <td>0.565865</td>\n",
       "      <td>3.72862</td>\n",
       "    </tr>\n",
       "    <tr>\n",
       "      <th>4</th>\n",
       "      <td>147115</td>\n",
       "      <td>366523212</td>\n",
       "      <td>61.45040</td>\n",
       "      <td>2.95284</td>\n",
       "      <td>-14.622700</td>\n",
       "      <td>-59.61210</td>\n",
       "      <td>14.91790</td>\n",
       "      <td>-2.09375</td>\n",
       "      <td>-1.37154</td>\n",
       "      <td>13.8871</td>\n",
       "      <td>-0.277757</td>\n",
       "      <td>-2.42560</td>\n",
       "      <td>-13.6708</td>\n",
       "      <td>2.44145</td>\n",
       "      <td>-2.423700</td>\n",
       "      <td>-1.684810</td>\n",
       "      <td>2.74718</td>\n",
       "    </tr>\n",
       "  </tbody>\n",
       "</table>\n",
       "</div>"
      ],
      "text/plain": [
       "      Run      Event        E1      px1         py1       pz1       pt1  \\\n",
       "0  147115  366639895  58.71410  -7.31132  10.531000 -57.29740  12.82020   \n",
       "1  147115  366704169   6.61188  -4.15213  -0.579855  -5.11278   4.19242   \n",
       "2  147115  367112316  25.54190 -11.48090   2.041680  22.72460  11.66100   \n",
       "3  147115  366952149  65.39590   7.51214  11.887100  63.86620  14.06190   \n",
       "4  147115  366523212  61.45040   2.95284 -14.622700 -59.61210  14.91790   \n",
       "\n",
       "      eta1     phi1       E2        px2      py2      pz2       pt2      eta2  \\\n",
       "0 -2.20267  2.17766  11.2836  -1.032340 -1.88066 -11.0778   2.14537 -2.344030   \n",
       "1 -1.02842 -3.00284  17.1492 -11.713500  5.04474  11.4647  12.75360  0.808077   \n",
       "2  1.42048  2.96560  15.8203  -1.472800  2.25895 -15.5888   2.69667 -2.455080   \n",
       "3  2.21838  1.00721  25.1273   4.087860  2.59641  24.6563   4.84272  2.330210   \n",
       "4 -2.09375 -1.37154  13.8871  -0.277757 -2.42560 -13.6708   2.44145 -2.423700   \n",
       "\n",
       "       phi2         M  \n",
       "0 -2.072810   8.94841  \n",
       "1  2.734920  15.89300  \n",
       "2  2.148570  38.38770  \n",
       "3  0.565865   3.72862  \n",
       "4 -1.684810   2.74718  "
      ]
     },
     "execution_count": 24,
     "metadata": {},
     "output_type": "execute_result"
    }
   ],
   "source": [
    "num.head()"
   ]
  },
  {
   "cell_type": "code",
   "execution_count": 25,
   "id": "8de47880",
   "metadata": {
    "execution": {
     "iopub.execute_input": "2022-01-21T06:13:53.821623Z",
     "iopub.status.busy": "2022-01-21T06:13:53.820594Z",
     "iopub.status.idle": "2022-01-21T06:13:53.830360Z",
     "shell.execute_reply": "2022-01-21T06:13:53.830967Z",
     "shell.execute_reply.started": "2022-01-21T06:00:25.284165Z"
    },
    "papermill": {
     "duration": 0.056084,
     "end_time": "2022-01-21T06:13:53.831193",
     "exception": false,
     "start_time": "2022-01-21T06:13:53.775109",
     "status": "completed"
    },
    "tags": []
   },
   "outputs": [
    {
     "data": {
      "text/html": [
       "<div>\n",
       "<style scoped>\n",
       "    .dataframe tbody tr th:only-of-type {\n",
       "        vertical-align: middle;\n",
       "    }\n",
       "\n",
       "    .dataframe tbody tr th {\n",
       "        vertical-align: top;\n",
       "    }\n",
       "\n",
       "    .dataframe thead th {\n",
       "        text-align: right;\n",
       "    }\n",
       "</style>\n",
       "<table border=\"1\" class=\"dataframe\">\n",
       "  <thead>\n",
       "    <tr style=\"text-align: right;\">\n",
       "      <th></th>\n",
       "      <th>Q1</th>\n",
       "      <th>Q2</th>\n",
       "      <th>M</th>\n",
       "    </tr>\n",
       "  </thead>\n",
       "  <tbody>\n",
       "    <tr>\n",
       "      <th>0</th>\n",
       "      <td>1</td>\n",
       "      <td>-1</td>\n",
       "      <td>8.94841</td>\n",
       "    </tr>\n",
       "    <tr>\n",
       "      <th>1</th>\n",
       "      <td>-1</td>\n",
       "      <td>1</td>\n",
       "      <td>15.89300</td>\n",
       "    </tr>\n",
       "    <tr>\n",
       "      <th>2</th>\n",
       "      <td>1</td>\n",
       "      <td>1</td>\n",
       "      <td>38.38770</td>\n",
       "    </tr>\n",
       "    <tr>\n",
       "      <th>3</th>\n",
       "      <td>1</td>\n",
       "      <td>-1</td>\n",
       "      <td>3.72862</td>\n",
       "    </tr>\n",
       "    <tr>\n",
       "      <th>4</th>\n",
       "      <td>-1</td>\n",
       "      <td>-1</td>\n",
       "      <td>2.74718</td>\n",
       "    </tr>\n",
       "  </tbody>\n",
       "</table>\n",
       "</div>"
      ],
      "text/plain": [
       "   Q1  Q2         M\n",
       "0   1  -1   8.94841\n",
       "1  -1   1  15.89300\n",
       "2   1   1  38.38770\n",
       "3   1  -1   3.72862\n",
       "4  -1  -1   2.74718"
      ]
     },
     "execution_count": 25,
     "metadata": {},
     "output_type": "execute_result"
    }
   ],
   "source": [
    "cat.head()"
   ]
  },
  {
   "cell_type": "code",
   "execution_count": 26,
   "id": "8d27dc03",
   "metadata": {
    "execution": {
     "iopub.execute_input": "2022-01-21T06:13:53.922577Z",
     "iopub.status.busy": "2022-01-21T06:13:53.921562Z",
     "iopub.status.idle": "2022-01-21T06:14:24.391651Z",
     "shell.execute_reply": "2022-01-21T06:14:24.392194Z",
     "shell.execute_reply.started": "2022-01-21T06:00:25.296276Z"
    },
    "papermill": {
     "duration": 30.516757,
     "end_time": "2022-01-21T06:14:24.392382",
     "exception": false,
     "start_time": "2022-01-21T06:13:53.875625",
     "status": "completed"
    },
    "tags": []
   },
   "outputs": [
    {
     "data": {
      "text/plain": [
       "(array([0.97652564, 0.99745119]), array([0.90871768, 0.55858979]))"
      ]
     },
     "execution_count": 26,
     "metadata": {},
     "output_type": "execute_result"
    }
   ],
   "source": [
    "from sklearn.feature_selection import f_classif\n",
    "\n",
    "x_cat = cat[['Q1','Q2']]\n",
    "y_cat = cat['M']\n",
    "\n",
    "f_score_cat = f_classif(x_cat,y_cat)\n",
    "\n",
    "f_score_cat"
   ]
  },
  {
   "cell_type": "markdown",
   "id": "dfc735d3",
   "metadata": {
    "papermill": {
     "duration": 0.043077,
     "end_time": "2022-01-21T06:14:24.478763",
     "exception": false,
     "start_time": "2022-01-21T06:14:24.435686",
     "status": "completed"
    },
    "tags": []
   },
   "source": [
    "### Since p-values of Q1 and Q2 against M are not < 0.05, they are statistically insignificant"
   ]
  },
  {
   "cell_type": "code",
   "execution_count": 27,
   "id": "3209b1ef",
   "metadata": {
    "execution": {
     "iopub.execute_input": "2022-01-21T06:14:24.572721Z",
     "iopub.status.busy": "2022-01-21T06:14:24.571991Z",
     "iopub.status.idle": "2022-01-21T06:14:26.758347Z",
     "shell.execute_reply": "2022-01-21T06:14:26.757795Z",
     "shell.execute_reply.started": "2022-01-21T06:00:53.022028Z"
    },
    "papermill": {
     "duration": 2.236396,
     "end_time": "2022-01-21T06:14:26.758498",
     "exception": false,
     "start_time": "2022-01-21T06:14:24.522102",
     "status": "completed"
    },
    "tags": []
   },
   "outputs": [
    {
     "data": {
      "image/png": "[encoded data removed]",
      "text/plain": [
       "<Figure size 1440x1440 with 2 Axes>"
      ]
     },
     "metadata": {
      "needs_background": "light"
     },
     "output_type": "display_data"
    }
   ],
   "source": [
    "# for numerical input and output\n",
    "\n",
    "from matplotlib import pyplot as plt\n",
    "import seaborn as sns\n",
    "\n",
    "corrmat = num.corr()\n",
    "corr_features = corrmat.index\n",
    "plt.figure(figsize=(20,20))\n",
    "\n",
    "g = sns.heatmap(num[corr_features].corr(), annot=True, cmap='RdYlGn')\n"
   ]
  },
  {
   "cell_type": "code",
   "execution_count": 28,
   "id": "5c427cba",
   "metadata": {
    "execution": {
     "iopub.execute_input": "2022-01-21T06:14:26.864728Z",
     "iopub.status.busy": "2022-01-21T06:14:26.863974Z",
     "iopub.status.idle": "2022-01-21T06:14:26.896985Z",
     "shell.execute_reply": "2022-01-21T06:14:26.896387Z",
     "shell.execute_reply.started": "2022-01-21T06:00:54.851048Z"
    },
    "papermill": {
     "duration": 0.089933,
     "end_time": "2022-01-21T06:14:26.897140",
     "exception": false,
     "start_time": "2022-01-21T06:14:26.807207",
     "status": "completed"
    },
    "tags": []
   },
   "outputs": [
    {
     "data": {
      "text/plain": [
       "[0.12952868579826377,\n",
       " 0.05237825926303478,\n",
       " 0.285270075746737,\n",
       " 0.0061189139071308905,\n",
       " 0.007632710004141188,\n",
       " 0.011695447089583238,\n",
       " 0.4372083737626393,\n",
       " 0.017178107260687633,\n",
       " 0.0019403497369464098,\n",
       " 0.32469058527865474,\n",
       " -0.00440833056470835,\n",
       " -0.011740157665351183,\n",
       " 0.01569032707874001,\n",
       " 0.4371915039170765,\n",
       " 0.018755964666175087,\n",
       " -0.0041539270181930885]"
      ]
     },
     "execution_count": 28,
     "metadata": {},
     "output_type": "execute_result"
    }
   ],
   "source": [
    "co_n = []\n",
    "for i in (num.drop(columns=['M'],axis=1).columns):\n",
    "    co_n.append(num['M'].corr(num[i]))\n",
    "    \n",
    "co_n"
   ]
  },
  {
   "cell_type": "code",
   "execution_count": 29,
   "id": "563d8fc0",
   "metadata": {
    "execution": {
     "iopub.execute_input": "2022-01-21T06:14:27.014144Z",
     "iopub.status.busy": "2022-01-21T06:14:27.013300Z",
     "iopub.status.idle": "2022-01-21T06:14:27.016670Z",
     "shell.execute_reply": "2022-01-21T06:14:27.017204Z",
     "shell.execute_reply.started": "2022-01-21T06:00:54.892641Z"
    },
    "papermill": {
     "duration": 0.071899,
     "end_time": "2022-01-21T06:14:27.017385",
     "exception": false,
     "start_time": "2022-01-21T06:14:26.945486",
     "status": "completed"
    },
    "tags": []
   },
   "outputs": [
    {
     "data": {
      "text/html": [
       "<div>\n",
       "<style scoped>\n",
       "    .dataframe tbody tr th:only-of-type {\n",
       "        vertical-align: middle;\n",
       "    }\n",
       "\n",
       "    .dataframe tbody tr th {\n",
       "        vertical-align: top;\n",
       "    }\n",
       "\n",
       "    .dataframe thead th {\n",
       "        text-align: right;\n",
       "    }\n",
       "</style>\n",
       "<table border=\"1\" class=\"dataframe\">\n",
       "  <thead>\n",
       "    <tr style=\"text-align: right;\">\n",
       "      <th></th>\n",
       "      <th>col</th>\n",
       "      <th>corr</th>\n",
       "    </tr>\n",
       "  </thead>\n",
       "  <tbody>\n",
       "    <tr>\n",
       "      <th>0</th>\n",
       "      <td>Run</td>\n",
       "      <td>0.129529</td>\n",
       "    </tr>\n",
       "    <tr>\n",
       "      <th>1</th>\n",
       "      <td>Event</td>\n",
       "      <td>0.052378</td>\n",
       "    </tr>\n",
       "    <tr>\n",
       "      <th>2</th>\n",
       "      <td>E1</td>\n",
       "      <td>0.285270</td>\n",
       "    </tr>\n",
       "    <tr>\n",
       "      <th>3</th>\n",
       "      <td>px1</td>\n",
       "      <td>0.006119</td>\n",
       "    </tr>\n",
       "    <tr>\n",
       "      <th>4</th>\n",
       "      <td>py1</td>\n",
       "      <td>0.007633</td>\n",
       "    </tr>\n",
       "    <tr>\n",
       "      <th>5</th>\n",
       "      <td>pz1</td>\n",
       "      <td>0.011695</td>\n",
       "    </tr>\n",
       "    <tr>\n",
       "      <th>6</th>\n",
       "      <td>pt1</td>\n",
       "      <td>0.437208</td>\n",
       "    </tr>\n",
       "    <tr>\n",
       "      <th>7</th>\n",
       "      <td>eta1</td>\n",
       "      <td>0.017178</td>\n",
       "    </tr>\n",
       "    <tr>\n",
       "      <th>8</th>\n",
       "      <td>phi1</td>\n",
       "      <td>0.001940</td>\n",
       "    </tr>\n",
       "    <tr>\n",
       "      <th>9</th>\n",
       "      <td>E2</td>\n",
       "      <td>0.324691</td>\n",
       "    </tr>\n",
       "    <tr>\n",
       "      <th>10</th>\n",
       "      <td>px2</td>\n",
       "      <td>-0.004408</td>\n",
       "    </tr>\n",
       "    <tr>\n",
       "      <th>11</th>\n",
       "      <td>py2</td>\n",
       "      <td>-0.011740</td>\n",
       "    </tr>\n",
       "    <tr>\n",
       "      <th>12</th>\n",
       "      <td>pz2</td>\n",
       "      <td>0.015690</td>\n",
       "    </tr>\n",
       "    <tr>\n",
       "      <th>13</th>\n",
       "      <td>pt2</td>\n",
       "      <td>0.437192</td>\n",
       "    </tr>\n",
       "    <tr>\n",
       "      <th>14</th>\n",
       "      <td>eta2</td>\n",
       "      <td>0.018756</td>\n",
       "    </tr>\n",
       "    <tr>\n",
       "      <th>15</th>\n",
       "      <td>phi2</td>\n",
       "      <td>-0.004154</td>\n",
       "    </tr>\n",
       "  </tbody>\n",
       "</table>\n",
       "</div>"
      ],
      "text/plain": [
       "      col      corr\n",
       "0     Run  0.129529\n",
       "1   Event  0.052378\n",
       "2      E1  0.285270\n",
       "3    px1   0.006119\n",
       "4     py1  0.007633\n",
       "5     pz1  0.011695\n",
       "6     pt1  0.437208\n",
       "7    eta1  0.017178\n",
       "8    phi1  0.001940\n",
       "9      E2  0.324691\n",
       "10    px2 -0.004408\n",
       "11    py2 -0.011740\n",
       "12    pz2  0.015690\n",
       "13    pt2  0.437192\n",
       "14   eta2  0.018756\n",
       "15   phi2 -0.004154"
      ]
     },
     "execution_count": 29,
     "metadata": {},
     "output_type": "execute_result"
    }
   ],
   "source": [
    "cor_n = pd.DataFrame(columns=['col','corr'])\n",
    "cor_n['col'] = num.drop(columns=['M'],axis=1).columns\n",
    "cor_n['corr'] = co_n\n",
    "\n",
    "cor_n"
   ]
  },
  {
   "cell_type": "code",
   "execution_count": 30,
   "id": "09957f9a",
   "metadata": {
    "execution": {
     "iopub.execute_input": "2022-01-21T06:14:27.119922Z",
     "iopub.status.busy": "2022-01-21T06:14:27.119282Z",
     "iopub.status.idle": "2022-01-21T06:14:27.130485Z",
     "shell.execute_reply": "2022-01-21T06:14:27.131045Z",
     "shell.execute_reply.started": "2022-01-21T06:00:54.912613Z"
    },
    "papermill": {
     "duration": 0.064304,
     "end_time": "2022-01-21T06:14:27.131240",
     "exception": false,
     "start_time": "2022-01-21T06:14:27.066936",
     "status": "completed"
    },
    "tags": []
   },
   "outputs": [
    {
     "data": {
      "text/html": [
       "<div>\n",
       "<style scoped>\n",
       "    .dataframe tbody tr th:only-of-type {\n",
       "        vertical-align: middle;\n",
       "    }\n",
       "\n",
       "    .dataframe tbody tr th {\n",
       "        vertical-align: top;\n",
       "    }\n",
       "\n",
       "    .dataframe thead th {\n",
       "        text-align: right;\n",
       "    }\n",
       "</style>\n",
       "<table border=\"1\" class=\"dataframe\">\n",
       "  <thead>\n",
       "    <tr style=\"text-align: right;\">\n",
       "      <th></th>\n",
       "      <th>col</th>\n",
       "      <th>corr</th>\n",
       "    </tr>\n",
       "  </thead>\n",
       "  <tbody>\n",
       "    <tr>\n",
       "      <th>2</th>\n",
       "      <td>E1</td>\n",
       "      <td>0.285270</td>\n",
       "    </tr>\n",
       "    <tr>\n",
       "      <th>6</th>\n",
       "      <td>pt1</td>\n",
       "      <td>0.437208</td>\n",
       "    </tr>\n",
       "    <tr>\n",
       "      <th>9</th>\n",
       "      <td>E2</td>\n",
       "      <td>0.324691</td>\n",
       "    </tr>\n",
       "    <tr>\n",
       "      <th>13</th>\n",
       "      <td>pt2</td>\n",
       "      <td>0.437192</td>\n",
       "    </tr>\n",
       "  </tbody>\n",
       "</table>\n",
       "</div>"
      ],
      "text/plain": [
       "    col      corr\n",
       "2    E1  0.285270\n",
       "6   pt1  0.437208\n",
       "9    E2  0.324691\n",
       "13  pt2  0.437192"
      ]
     },
     "execution_count": 30,
     "metadata": {},
     "output_type": "execute_result"
    }
   ],
   "source": [
    "cor_n = cor_n.loc[(cor_n['corr'] >= 0.2) | (cor_n['corr'] <= -0.2)]\n",
    "cor_n"
   ]
  },
  {
   "cell_type": "code",
   "execution_count": 31,
   "id": "3ae22492",
   "metadata": {
    "execution": {
     "iopub.execute_input": "2022-01-21T06:14:27.233217Z",
     "iopub.status.busy": "2022-01-21T06:14:27.232496Z",
     "iopub.status.idle": "2022-01-21T06:14:27.247970Z",
     "shell.execute_reply": "2022-01-21T06:14:27.247330Z",
     "shell.execute_reply.started": "2022-01-21T06:00:54.931466Z"
    },
    "papermill": {
     "duration": 0.067814,
     "end_time": "2022-01-21T06:14:27.248172",
     "exception": false,
     "start_time": "2022-01-21T06:14:27.180358",
     "status": "completed"
    },
    "tags": []
   },
   "outputs": [
    {
     "data": {
      "text/html": [
       "<div>\n",
       "<style scoped>\n",
       "    .dataframe tbody tr th:only-of-type {\n",
       "        vertical-align: middle;\n",
       "    }\n",
       "\n",
       "    .dataframe tbody tr th {\n",
       "        vertical-align: top;\n",
       "    }\n",
       "\n",
       "    .dataframe thead th {\n",
       "        text-align: right;\n",
       "    }\n",
       "</style>\n",
       "<table border=\"1\" class=\"dataframe\">\n",
       "  <thead>\n",
       "    <tr style=\"text-align: right;\">\n",
       "      <th></th>\n",
       "      <th>E1</th>\n",
       "      <th>pt1</th>\n",
       "      <th>E2</th>\n",
       "      <th>pt2</th>\n",
       "    </tr>\n",
       "  </thead>\n",
       "  <tbody>\n",
       "    <tr>\n",
       "      <th>0</th>\n",
       "      <td>58.71410</td>\n",
       "      <td>12.82020</td>\n",
       "      <td>11.2836</td>\n",
       "      <td>2.14537</td>\n",
       "    </tr>\n",
       "    <tr>\n",
       "      <th>1</th>\n",
       "      <td>6.61188</td>\n",
       "      <td>4.19242</td>\n",
       "      <td>17.1492</td>\n",
       "      <td>12.75360</td>\n",
       "    </tr>\n",
       "    <tr>\n",
       "      <th>2</th>\n",
       "      <td>25.54190</td>\n",
       "      <td>11.66100</td>\n",
       "      <td>15.8203</td>\n",
       "      <td>2.69667</td>\n",
       "    </tr>\n",
       "    <tr>\n",
       "      <th>3</th>\n",
       "      <td>65.39590</td>\n",
       "      <td>14.06190</td>\n",
       "      <td>25.1273</td>\n",
       "      <td>4.84272</td>\n",
       "    </tr>\n",
       "    <tr>\n",
       "      <th>4</th>\n",
       "      <td>61.45040</td>\n",
       "      <td>14.91790</td>\n",
       "      <td>13.8871</td>\n",
       "      <td>2.44145</td>\n",
       "    </tr>\n",
       "  </tbody>\n",
       "</table>\n",
       "</div>"
      ],
      "text/plain": [
       "         E1       pt1       E2       pt2\n",
       "0  58.71410  12.82020  11.2836   2.14537\n",
       "1   6.61188   4.19242  17.1492  12.75360\n",
       "2  25.54190  11.66100  15.8203   2.69667\n",
       "3  65.39590  14.06190  25.1273   4.84272\n",
       "4  61.45040  14.91790  13.8871   2.44145"
      ]
     },
     "execution_count": 31,
     "metadata": {},
     "output_type": "execute_result"
    }
   ],
   "source": [
    "sel_col = cor_n['col']\n",
    "num_cor = num[sel_col]\n",
    "num_cor.head()"
   ]
  },
  {
   "cell_type": "code",
   "execution_count": 32,
   "id": "4d7e0917",
   "metadata": {
    "execution": {
     "iopub.execute_input": "2022-01-21T06:14:27.355503Z",
     "iopub.status.busy": "2022-01-21T06:14:27.354632Z",
     "iopub.status.idle": "2022-01-21T06:14:27.468266Z",
     "shell.execute_reply": "2022-01-21T06:14:27.469037Z",
     "shell.execute_reply.started": "2022-01-21T06:00:54.946449Z"
    },
    "papermill": {
     "duration": 0.171094,
     "end_time": "2022-01-21T06:14:27.469381",
     "exception": false,
     "start_time": "2022-01-21T06:14:27.298287",
     "status": "completed"
    },
    "tags": []
   },
   "outputs": [],
   "source": [
    "from statsmodels.stats.outliers_influence import variance_inflation_factor\n",
    "\n",
    "def calc_vif2(X):\n",
    "\n",
    "    # Calculating VIF\n",
    "    vif = pd.DataFrame()\n",
    "    vif[\"variables\"] = X.columns\n",
    "    vif[\"VIF\"] = [variance_inflation_factor(X.values, i) for i in range(X.shape[1])]\n",
    "\n",
    "    return(vif)"
   ]
  },
  {
   "cell_type": "code",
   "execution_count": 33,
   "id": "25d14d09",
   "metadata": {
    "execution": {
     "iopub.execute_input": "2022-01-21T06:14:27.583892Z",
     "iopub.status.busy": "2022-01-21T06:14:27.583055Z",
     "iopub.status.idle": "2022-01-21T06:14:27.703924Z",
     "shell.execute_reply": "2022-01-21T06:14:27.704909Z",
     "shell.execute_reply.started": "2022-01-21T06:00:54.964503Z"
    },
    "papermill": {
     "duration": 0.179024,
     "end_time": "2022-01-21T06:14:27.705234",
     "exception": false,
     "start_time": "2022-01-21T06:14:27.526210",
     "status": "completed"
    },
    "tags": []
   },
   "outputs": [
    {
     "data": {
      "text/html": [
       "<div>\n",
       "<style scoped>\n",
       "    .dataframe tbody tr th:only-of-type {\n",
       "        vertical-align: middle;\n",
       "    }\n",
       "\n",
       "    .dataframe tbody tr th {\n",
       "        vertical-align: top;\n",
       "    }\n",
       "\n",
       "    .dataframe thead th {\n",
       "        text-align: right;\n",
       "    }\n",
       "</style>\n",
       "<table border=\"1\" class=\"dataframe\">\n",
       "  <thead>\n",
       "    <tr style=\"text-align: right;\">\n",
       "      <th></th>\n",
       "      <th>variables</th>\n",
       "      <th>VIF</th>\n",
       "    </tr>\n",
       "  </thead>\n",
       "  <tbody>\n",
       "    <tr>\n",
       "      <th>0</th>\n",
       "      <td>E1</td>\n",
       "      <td>3.784728</td>\n",
       "    </tr>\n",
       "    <tr>\n",
       "      <th>1</th>\n",
       "      <td>pt1</td>\n",
       "      <td>4.510883</td>\n",
       "    </tr>\n",
       "    <tr>\n",
       "      <th>2</th>\n",
       "      <td>E2</td>\n",
       "      <td>4.594774</td>\n",
       "    </tr>\n",
       "    <tr>\n",
       "      <th>3</th>\n",
       "      <td>pt2</td>\n",
       "      <td>5.370416</td>\n",
       "    </tr>\n",
       "  </tbody>\n",
       "</table>\n",
       "</div>"
      ],
      "text/plain": [
       "  variables       VIF\n",
       "0        E1  3.784728\n",
       "1       pt1  4.510883\n",
       "2        E2  4.594774\n",
       "3       pt2  5.370416"
      ]
     },
     "execution_count": 33,
     "metadata": {},
     "output_type": "execute_result"
    }
   ],
   "source": [
    "calc_vif2(num_cor)"
   ]
  },
  {
   "cell_type": "code",
   "execution_count": 34,
   "id": "fedf5c99",
   "metadata": {
    "execution": {
     "iopub.execute_input": "2022-01-21T06:14:27.873813Z",
     "iopub.status.busy": "2022-01-21T06:14:27.864107Z",
     "iopub.status.idle": "2022-01-21T06:14:27.878400Z",
     "shell.execute_reply": "2022-01-21T06:14:27.877718Z",
     "shell.execute_reply.started": "2022-01-21T06:00:55.084192Z"
    },
    "papermill": {
     "duration": 0.075747,
     "end_time": "2022-01-21T06:14:27.878547",
     "exception": false,
     "start_time": "2022-01-21T06:14:27.802800",
     "status": "completed"
    },
    "tags": []
   },
   "outputs": [
    {
     "name": "stderr",
     "output_type": "stream",
     "text": [
      "/opt/conda/lib/python3.7/site-packages/ipykernel_launcher.py:4: SettingWithCopyWarning: \n",
      "A value is trying to be set on a copy of a slice from a DataFrame.\n",
      "Try using .loc[row_indexer,col_indexer] = value instead\n",
      "\n",
      "See the caveats in the documentation: https://pandas.pydata.org/pandas-docs/stable/user_guide/indexing.html#returning-a-view-versus-a-copy\n",
      "  after removing the cwd from sys.path.\n"
     ]
    },
    {
     "data": {
      "text/html": [
       "<div>\n",
       "<style scoped>\n",
       "    .dataframe tbody tr th:only-of-type {\n",
       "        vertical-align: middle;\n",
       "    }\n",
       "\n",
       "    .dataframe tbody tr th {\n",
       "        vertical-align: top;\n",
       "    }\n",
       "\n",
       "    .dataframe thead th {\n",
       "        text-align: right;\n",
       "    }\n",
       "</style>\n",
       "<table border=\"1\" class=\"dataframe\">\n",
       "  <thead>\n",
       "    <tr style=\"text-align: right;\">\n",
       "      <th></th>\n",
       "      <th>E1</th>\n",
       "      <th>pt1</th>\n",
       "      <th>E2</th>\n",
       "      <th>pt2</th>\n",
       "      <th>M</th>\n",
       "    </tr>\n",
       "  </thead>\n",
       "  <tbody>\n",
       "    <tr>\n",
       "      <th>0</th>\n",
       "      <td>58.71410</td>\n",
       "      <td>12.82020</td>\n",
       "      <td>11.2836</td>\n",
       "      <td>2.14537</td>\n",
       "      <td>8.94841</td>\n",
       "    </tr>\n",
       "    <tr>\n",
       "      <th>1</th>\n",
       "      <td>6.61188</td>\n",
       "      <td>4.19242</td>\n",
       "      <td>17.1492</td>\n",
       "      <td>12.75360</td>\n",
       "      <td>15.89300</td>\n",
       "    </tr>\n",
       "    <tr>\n",
       "      <th>2</th>\n",
       "      <td>25.54190</td>\n",
       "      <td>11.66100</td>\n",
       "      <td>15.8203</td>\n",
       "      <td>2.69667</td>\n",
       "      <td>38.38770</td>\n",
       "    </tr>\n",
       "    <tr>\n",
       "      <th>3</th>\n",
       "      <td>65.39590</td>\n",
       "      <td>14.06190</td>\n",
       "      <td>25.1273</td>\n",
       "      <td>4.84272</td>\n",
       "      <td>3.72862</td>\n",
       "    </tr>\n",
       "    <tr>\n",
       "      <th>4</th>\n",
       "      <td>61.45040</td>\n",
       "      <td>14.91790</td>\n",
       "      <td>13.8871</td>\n",
       "      <td>2.44145</td>\n",
       "      <td>2.74718</td>\n",
       "    </tr>\n",
       "  </tbody>\n",
       "</table>\n",
       "</div>"
      ],
      "text/plain": [
       "         E1       pt1       E2       pt2         M\n",
       "0  58.71410  12.82020  11.2836   2.14537   8.94841\n",
       "1   6.61188   4.19242  17.1492  12.75360  15.89300\n",
       "2  25.54190  11.66100  15.8203   2.69667  38.38770\n",
       "3  65.39590  14.06190  25.1273   4.84272   3.72862\n",
       "4  61.45040  14.91790  13.8871   2.44145   2.74718"
      ]
     },
     "execution_count": 34,
     "metadata": {},
     "output_type": "execute_result"
    }
   ],
   "source": [
    "# VIF can be under 5 or 10 so we can consider all the above columns\n",
    "\n",
    "fs_df = df[num_cor.columns]\n",
    "fs_df['M'] = df['M']\n",
    "fs_df.head()"
   ]
  },
  {
   "cell_type": "code",
   "execution_count": 35,
   "id": "1a8044b4",
   "metadata": {
    "execution": {
     "iopub.execute_input": "2022-01-21T06:14:27.989505Z",
     "iopub.status.busy": "2022-01-21T06:14:27.988768Z",
     "iopub.status.idle": "2022-01-21T06:14:27.993219Z",
     "shell.execute_reply": "2022-01-21T06:14:27.992545Z",
     "shell.execute_reply.started": "2022-01-21T06:00:55.110447Z"
    },
    "papermill": {
     "duration": 0.062149,
     "end_time": "2022-01-21T06:14:27.993393",
     "exception": false,
     "start_time": "2022-01-21T06:14:27.931244",
     "status": "completed"
    },
    "tags": []
   },
   "outputs": [
    {
     "data": {
      "text/plain": [
       "(99892, 5)"
      ]
     },
     "execution_count": 35,
     "metadata": {},
     "output_type": "execute_result"
    }
   ],
   "source": [
    "fs_df.shape"
   ]
  },
  {
   "cell_type": "code",
   "execution_count": 36,
   "id": "cbf4f147",
   "metadata": {
    "execution": {
     "iopub.execute_input": "2022-01-21T06:14:28.108319Z",
     "iopub.status.busy": "2022-01-21T06:14:28.107634Z",
     "iopub.status.idle": "2022-01-21T06:14:28.110650Z",
     "shell.execute_reply": "2022-01-21T06:14:28.109984Z",
     "shell.execute_reply.started": "2022-01-21T06:00:55.121466Z"
    },
    "papermill": {
     "duration": 0.064319,
     "end_time": "2022-01-21T06:14:28.110790",
     "exception": false,
     "start_time": "2022-01-21T06:14:28.046471",
     "status": "completed"
    },
    "tags": []
   },
   "outputs": [],
   "source": [
    "# Linear Regression, Lasso Regression, Decision tree, Random Forest, Support Vector Regression\n",
    "\n",
    "from sklearn.model_selection import RepeatedStratifiedKFold\n",
    "from sklearn.model_selection import cross_val_score\n",
    "from sklearn.metrics import r2_score\n",
    "\n",
    "from sklearn.linear_model import LinearRegression\n",
    "\n",
    "\n",
    "def lr(X_train,X_test,y_train,y_test):\n",
    "    model = LinearRegression()\n",
    "    model.fit(X_train,y_train)\n",
    "    pred = model.predict(X_test)\n",
    "    r2 = r2_score(y_test,pred)\n",
    "    adj_r2 = 1 - ((1-r2)*((len(X_test)-1)/((len(X_test))-(len(X_test.columns))-1)))\n",
    "    return model, r2, adj_r2\n",
    "    "
   ]
  },
  {
   "cell_type": "code",
   "execution_count": 37,
   "id": "ae697ba3",
   "metadata": {
    "execution": {
     "iopub.execute_input": "2022-01-21T06:14:28.223199Z",
     "iopub.status.busy": "2022-01-21T06:14:28.222497Z",
     "iopub.status.idle": "2022-01-21T06:14:28.237699Z",
     "shell.execute_reply": "2022-01-21T06:14:28.237038Z",
     "shell.execute_reply.started": "2022-01-21T06:00:55.138922Z"
    },
    "papermill": {
     "duration": 0.075076,
     "end_time": "2022-01-21T06:14:28.237842",
     "exception": false,
     "start_time": "2022-01-21T06:14:28.162766",
     "status": "completed"
    },
    "tags": []
   },
   "outputs": [],
   "source": [
    "from sklearn.model_selection import train_test_split\n",
    "\n",
    "X = fs_df.drop(columns=['M'],axis=1)\n",
    "y = fs_df['M']\n",
    "\n",
    "X_train,X_test,y_train,y_test = train_test_split(X,y, random_state=25)"
   ]
  },
  {
   "cell_type": "code",
   "execution_count": 38,
   "id": "181583da",
   "metadata": {
    "execution": {
     "iopub.execute_input": "2022-01-21T06:14:28.354667Z",
     "iopub.status.busy": "2022-01-21T06:14:28.353874Z",
     "iopub.status.idle": "2022-01-21T06:14:28.357260Z",
     "shell.execute_reply": "2022-01-21T06:14:28.356630Z",
     "shell.execute_reply.started": "2022-01-21T06:00:55.176638Z"
    },
    "papermill": {
     "duration": 0.068116,
     "end_time": "2022-01-21T06:14:28.357396",
     "exception": false,
     "start_time": "2022-01-21T06:14:28.289280",
     "status": "completed"
    },
    "tags": []
   },
   "outputs": [
    {
     "data": {
      "text/html": [
       "<div>\n",
       "<style scoped>\n",
       "    .dataframe tbody tr th:only-of-type {\n",
       "        vertical-align: middle;\n",
       "    }\n",
       "\n",
       "    .dataframe tbody tr th {\n",
       "        vertical-align: top;\n",
       "    }\n",
       "\n",
       "    .dataframe thead th {\n",
       "        text-align: right;\n",
       "    }\n",
       "</style>\n",
       "<table border=\"1\" class=\"dataframe\">\n",
       "  <thead>\n",
       "    <tr style=\"text-align: right;\">\n",
       "      <th></th>\n",
       "      <th>E1</th>\n",
       "      <th>pt1</th>\n",
       "      <th>E2</th>\n",
       "      <th>pt2</th>\n",
       "    </tr>\n",
       "  </thead>\n",
       "  <tbody>\n",
       "    <tr>\n",
       "      <th>10338</th>\n",
       "      <td>57.27760</td>\n",
       "      <td>14.70180</td>\n",
       "      <td>4.13231</td>\n",
       "      <td>1.01015</td>\n",
       "    </tr>\n",
       "    <tr>\n",
       "      <th>20670</th>\n",
       "      <td>168.47100</td>\n",
       "      <td>39.53850</td>\n",
       "      <td>22.48980</td>\n",
       "      <td>13.88020</td>\n",
       "    </tr>\n",
       "    <tr>\n",
       "      <th>18998</th>\n",
       "      <td>3.79997</td>\n",
       "      <td>1.78768</td>\n",
       "      <td>31.42820</td>\n",
       "      <td>26.30920</td>\n",
       "    </tr>\n",
       "    <tr>\n",
       "      <th>29234</th>\n",
       "      <td>9.36250</td>\n",
       "      <td>9.09540</td>\n",
       "      <td>119.30500</td>\n",
       "      <td>26.23190</td>\n",
       "    </tr>\n",
       "    <tr>\n",
       "      <th>17156</th>\n",
       "      <td>27.00130</td>\n",
       "      <td>13.86960</td>\n",
       "      <td>4.35638</td>\n",
       "      <td>3.03440</td>\n",
       "    </tr>\n",
       "    <tr>\n",
       "      <th>...</th>\n",
       "      <td>...</td>\n",
       "      <td>...</td>\n",
       "      <td>...</td>\n",
       "      <td>...</td>\n",
       "    </tr>\n",
       "    <tr>\n",
       "      <th>89817</th>\n",
       "      <td>157.82600</td>\n",
       "      <td>23.86420</td>\n",
       "      <td>8.33063</td>\n",
       "      <td>2.53466</td>\n",
       "    </tr>\n",
       "    <tr>\n",
       "      <th>42298</th>\n",
       "      <td>8.07001</td>\n",
       "      <td>5.14840</td>\n",
       "      <td>58.91820</td>\n",
       "      <td>15.39850</td>\n",
       "    </tr>\n",
       "    <tr>\n",
       "      <th>22797</th>\n",
       "      <td>22.80550</td>\n",
       "      <td>19.62880</td>\n",
       "      <td>28.21230</td>\n",
       "      <td>4.52249</td>\n",
       "    </tr>\n",
       "    <tr>\n",
       "      <th>19519</th>\n",
       "      <td>47.74320</td>\n",
       "      <td>35.22120</td>\n",
       "      <td>46.99560</td>\n",
       "      <td>41.36440</td>\n",
       "    </tr>\n",
       "    <tr>\n",
       "      <th>32878</th>\n",
       "      <td>4.67994</td>\n",
       "      <td>2.71346</td>\n",
       "      <td>153.52800</td>\n",
       "      <td>29.65940</td>\n",
       "    </tr>\n",
       "  </tbody>\n",
       "</table>\n",
       "<p>24973 rows × 4 columns</p>\n",
       "</div>"
      ],
      "text/plain": [
       "              E1       pt1         E2       pt2\n",
       "10338   57.27760  14.70180    4.13231   1.01015\n",
       "20670  168.47100  39.53850   22.48980  13.88020\n",
       "18998    3.79997   1.78768   31.42820  26.30920\n",
       "29234    9.36250   9.09540  119.30500  26.23190\n",
       "17156   27.00130  13.86960    4.35638   3.03440\n",
       "...          ...       ...        ...       ...\n",
       "89817  157.82600  23.86420    8.33063   2.53466\n",
       "42298    8.07001   5.14840   58.91820  15.39850\n",
       "22797   22.80550  19.62880   28.21230   4.52249\n",
       "19519   47.74320  35.22120   46.99560  41.36440\n",
       "32878    4.67994   2.71346  153.52800  29.65940\n",
       "\n",
       "[24973 rows x 4 columns]"
      ]
     },
     "execution_count": 38,
     "metadata": {},
     "output_type": "execute_result"
    }
   ],
   "source": [
    "X_test"
   ]
  },
  {
   "cell_type": "code",
   "execution_count": 39,
   "id": "3d04eba1",
   "metadata": {
    "execution": {
     "iopub.execute_input": "2022-01-21T06:14:28.468535Z",
     "iopub.status.busy": "2022-01-21T06:14:28.467785Z",
     "iopub.status.idle": "2022-01-21T06:14:28.487707Z",
     "shell.execute_reply": "2022-01-21T06:14:28.486730Z",
     "shell.execute_reply.started": "2022-01-21T06:00:55.197213Z"
    },
    "papermill": {
     "duration": 0.078836,
     "end_time": "2022-01-21T06:14:28.487945",
     "exception": false,
     "start_time": "2022-01-21T06:14:28.409109",
     "status": "completed"
    },
    "tags": []
   },
   "outputs": [
    {
     "name": "stdout",
     "output_type": "stream",
     "text": [
      "0.4077774580111122\n",
      "0.4076825809617708\n"
     ]
    }
   ],
   "source": [
    "lr, lr_r2, lr_adj_r2 = lr(X_train,X_test,y_train,y_test)\n",
    "\n",
    "print(lr_r2)\n",
    "print(lr_adj_r2)"
   ]
  },
  {
   "cell_type": "code",
   "execution_count": 40,
   "id": "e3e602c5",
   "metadata": {
    "execution": {
     "iopub.execute_input": "2022-01-21T06:14:28.651287Z",
     "iopub.status.busy": "2022-01-21T06:14:28.650551Z",
     "iopub.status.idle": "2022-01-21T06:14:28.653022Z",
     "shell.execute_reply": "2022-01-21T06:14:28.653526Z",
     "shell.execute_reply.started": "2022-01-21T06:11:11.022771Z"
    },
    "papermill": {
     "duration": 0.065703,
     "end_time": "2022-01-21T06:14:28.653685",
     "exception": false,
     "start_time": "2022-01-21T06:14:28.587982",
     "status": "completed"
    },
    "tags": []
   },
   "outputs": [
    {
     "data": {
      "text/plain": [
       "' Predicting the mass of two electrons is not the right approach both theoretically and statistically.'"
      ]
     },
     "execution_count": 40,
     "metadata": {},
     "output_type": "execute_result"
    }
   ],
   "source": [
    "''' Predicting the mass of two electrons is not the right approach both theoretically and statistically.'''"
   ]
  },
  {
   "cell_type": "code",
   "execution_count": null,
   "id": "85c3dc86",
   "metadata": {
    "papermill": {
     "duration": 0.05285,
     "end_time": "2022-01-21T06:14:28.761243",
     "exception": false,
     "start_time": "2022-01-21T06:14:28.708393",
     "status": "completed"
    },
    "tags": []
   },
   "outputs": [],
   "source": []
  }
 ],
 "metadata": {
  "kernelspec": {
   "display_name": "Python 3",
   "language": "python",
   "name": "python3"
  },
  "language_info": {
   "codemirror_mode": {
    "name": "ipython",
    "version": 3
   },
   "file_extension": ".py",
   "mimetype": "text/x-python",
   "name": "python",
   "nbconvert_exporter": "python",
   "pygments_lexer": "ipython3",
   "version": "3.7.12"
  },
  "papermill": {
   "default_parameters": {},
   "duration": 48.976249,
   "end_time": "2022-01-21T06:14:29.525076",
   "environment_variables": {},
   "exception": null,
   "input_path": "__notebook__.ipynb",
   "output_path": "__notebook__.ipynb",
   "parameters": {},
   "start_time": "2022-01-21T06:13:40.548827",
   "version": "2.3.3"
  }
 },
 "nbformat": 4,
 "nbformat_minor": 5
}
